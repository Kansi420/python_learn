{
 "cells": [
  {
   "attachments": {},
   "cell_type": "markdown",
   "metadata": {},
   "source": [
    "# Python cheatsheet with basic python commands "
   ]
  },
  {
   "attachments": {},
   "cell_type": "markdown",
   "metadata": {},
   "source": [
    "Contents <br>\n",
    "___\n",
    "Python Types: <br> \n",
    "Numbers, Strings, Boolean, Lists, Dictionaries, Tuples, Sets, None\n",
    "\n",
    "Python Basics: <br>\n",
    "Comparison Operators, Logical Operators, Loops, Range, Enumerate, Counter, Named Tuple, OrderedDict\n",
    "\n",
    "Functions: <br>\n",
    "Functions, Lambda, Comprehensions, Map, Filter, Reduce, Ternary, Any, All, Closures, Scope\n",
    "\n",
    "Advanced Python: <br>\n",
    "Modules, Iterators, Generators, Decorators, Class, Exceptions, Command Line Arguments, File IO, Useful Libraries\n"
   ]
  },
  {
   "attachments": {},
   "cell_type": "markdown",
   "metadata": {},
   "source": [
    "## Python Types"
   ]
  },
  {
   "attachments": {},
   "cell_type": "markdown",
   "metadata": {},
   "source": [
    "### Numbers"
   ]
  },
  {
   "cell_type": "code",
   "execution_count": 140,
   "metadata": {},
   "outputs": [
    {
     "data": {
      "text/plain": [
       "(int, int, int, float, float, float)"
      ]
     },
     "execution_count": 140,
     "metadata": {},
     "output_type": "execute_result"
    }
   ],
   "source": [
    "type(1), type(-10), type(0), type(0.0), type(2.2), type(4E2) # 4*10 to the power of 2"
   ]
  },
  {
   "cell_type": "code",
   "execution_count": 141,
   "metadata": {},
   "outputs": [
    {
     "data": {
      "text/plain": [
       "(13, 7, 30, 1000, 3.3333333333333335, 3, 1)"
      ]
     },
     "execution_count": 141,
     "metadata": {},
     "output_type": "execute_result"
    }
   ],
   "source": [
    "# Arithmetic\n",
    "a1 = 10 + 3  # 13\n",
    "a2 = 10 - 3  # 7\n",
    "a3 = 10 * 3  # 30\n",
    "a4 = 10 ** 3 # 1000\n",
    "a5 = 10 / 3  # 3.3333333333333335\n",
    "a6 = 10 // 3 # 3 --> floor division - no decimals and returns an int\n",
    "a7 = 10 % 3  # 1 --> modulo operator - return the reminder. Good for deciding if number is even or odd\n",
    "a1, a2, a3, a4, a5, a6, a7"
   ]
  },
  {
   "cell_type": "code",
   "execution_count": 142,
   "metadata": {},
   "outputs": [
    {
     "data": {
      "text/plain": [
       "(25, 50, 5, 5.47, '0b1000000000', '0x200')"
      ]
     },
     "execution_count": 142,
     "metadata": {},
     "output_type": "execute_result"
    }
   ],
   "source": [
    "# Basic Functions\n",
    "p = pow(5, 2)  #25 --> like doing 5**2\n",
    "ab = abs(-50)       # 50\n",
    "r1 = round(5.46)    # 5\n",
    "r2 = round(5.468, 2)# 5.47 --> round to nth digit\n",
    "b = bin(512)       # '0b1000000000' -->  binary format\n",
    "h = hex(512)       # '0x200' --> hexadecimal format\n",
    "p, ab, r1, r2, b, h"
   ]
  },
  {
   "attachments": {},
   "cell_type": "markdown",
   "metadata": {},
   "source": [
    "### Strings\n",
    "Strings in python are stored as sequences of letters in memory"
   ]
  },
  {
   "cell_type": "code",
   "execution_count": 143,
   "metadata": {},
   "outputs": [
    {
     "data": {
      "text/plain": [
       "str"
      ]
     },
     "execution_count": 143,
     "metadata": {},
     "output_type": "execute_result"
    }
   ],
   "source": [
    "type('Hellloooooo') # str"
   ]
  },
  {
   "cell_type": "code",
   "execution_count": 144,
   "metadata": {},
   "outputs": [
    {
     "name": "stdout",
     "output_type": "stream",
     "text": [
      "\\t\n"
     ]
    }
   ],
   "source": [
    "print(\"\\\\t\")"
   ]
  },
  {
   "cell_type": "code",
   "execution_count": 145,
   "metadata": {},
   "outputs": [
    {
     "data": {
      "text/plain": [
       "'**********'"
      ]
     },
     "execution_count": 145,
     "metadata": {},
     "output_type": "execute_result"
    }
   ],
   "source": [
    "'I\\'m thirsty'\n",
    "\"I'm thirsty\"\n",
    "\"\\n\" # new line\n",
    "\"\\t\" # adds a tab\n",
    "\n",
    "'Hey you!'[4] # y\n",
    "name = 'Andrei Neagoie'\n",
    "name[4]     # e\n",
    "name[:]     # Andrei Neagoie\n",
    "name[1:]    # ndrei Neagoie\n",
    "name[:1]    # A\n",
    "name[-1]    # e\n",
    "name[::1]   # Andrei Neagoie\n",
    "name[::-1]  # eiogaeN ierdnA\n",
    "name[0:10:2]# Ade e\n",
    "# : is called slicing and has the format [ start : end : step ]\n",
    "\n",
    "'Hi there ' + 'Timmy' # 'Hi there Timmy' --> This is called string concatenation\n",
    "'*'*10 # **********"
   ]
  },
  {
   "cell_type": "code",
   "execution_count": 146,
   "metadata": {},
   "outputs": [
    {
     "name": "stdout",
     "output_type": "stream",
     "text": [
      "I am alone\n",
      "On an islan\n",
      "['but', 'life', 'is', 'good!']\n",
      "Help you\n",
      "True\n",
      "True\n",
      "STILL THERE?\n",
      "hello?!\n",
      "Ok, i am done.\n",
      "2\n",
      "2\n",
      "4\n",
      "-1\n",
      "ValueError was raised: substring not found\n"
     ]
    }
   ],
   "source": [
    "# Basic Functions\n",
    "len('turtle') # 6\n",
    "\n",
    "# Basic Methods\n",
    "print('  I am alone '.strip())               # 'I am alone' --> Strips all whitespace characters from both ends.\n",
    "print('On an island'.strip('d'))             # 'On an islan' --> # Strips all passed characters from both ends.\n",
    "print('but life is good!'.split())           # ['but', 'life', 'is', 'good!']\n",
    "print('Help me'.replace('me', 'you'))        # 'Help you' --> Replaces first with second param\n",
    "print('Need to make fire'.startswith('Need'))# True\n",
    "print('and cook rice'.endswith('rice'))      # True\n",
    "print('still there?'.upper())                # STILL THERE?\n",
    "print('HELLO?!'.lower())                     # hello?!\n",
    "print('ok, I am done.'.capitalize())         # 'Ok, I am done.'\n",
    "print('oh hi there'.count('e'))              # 2\n",
    "print('bye bye'.index('e'))                  # 2\n",
    "print('oh hi there'.find('i'))               # 4 --> returns the starting index position of the first occurrence\n",
    "print('oh hi there'.find('a'))               # -1\n",
    "try:\n",
    "    'oh hi there'.index('a')\n",
    "except Exception as err:\n",
    "    print(f\"{type(err).__name__} was raised: {err}\")    # Raises ValueError"
   ]
  },
  {
   "cell_type": "code",
   "execution_count": 147,
   "metadata": {},
   "outputs": [
    {
     "name": "stdout",
     "output_type": "stream",
     "text": [
      "Hello there Andrei and Sunny\n",
      "Hello there Andrei and Sunny\n",
      "Hello there Andrei and Sunny\n"
     ]
    }
   ],
   "source": [
    "# String Formatting\n",
    "name1 = 'Andrei'\n",
    "name2 = 'Sunny'\n",
    "print(f'Hello there {name1} and {name2}')       # Hello there Andrei and Sunny - Newer way to do things as of python 3.6\n",
    "print('Hello there {} and {}'.format(name1, name2))# Hello there Andrei and Sunny\n",
    "print('Hello there %s and %s' %(name1, name2))  # Hello there Andrei and Sunny --> you can also use %d, %f, %r for integers, floats, string representations of objects respectively"
   ]
  },
  {
   "cell_type": "code",
   "execution_count": 148,
   "metadata": {},
   "outputs": [
    {
     "name": "stdout",
     "output_type": "stream",
     "text": [
      "True\n"
     ]
    }
   ],
   "source": [
    "# Palindrome check\n",
    "word = 'reviver'\n",
    "p = bool(word.find(word[::-1]) + 1)\n",
    "print(p)"
   ]
  },
  {
   "attachments": {},
   "cell_type": "markdown",
   "metadata": {},
   "source": [
    "### Boolean\n",
    "True or False. Used in a lot of comparison and logical operations in Python"
   ]
  },
  {
   "cell_type": "code",
   "execution_count": 149,
   "metadata": {},
   "outputs": [
    {
     "name": "stdout",
     "output_type": "stream",
     "text": [
      "False\n",
      "False\n",
      "False\n",
      "False\n",
      "False\n",
      "False\n",
      "False\n",
      "False\n",
      "False\n",
      "False\n"
     ]
    }
   ],
   "source": [
    "bool(True)\n",
    "bool(False)\n",
    "\n",
    "# all of the below evaluate to False. Everything else will evaluate to True in Python.\n",
    "print(bool(None))\n",
    "print(bool(False))\n",
    "print(bool(0))\n",
    "print(bool(0.0))\n",
    "print(bool([]))\n",
    "print(bool({}))\n",
    "print(bool(()))\n",
    "print(bool(''))\n",
    "print(bool(range(0)))\n",
    "print(bool(set()))\n",
    "\n",
    "# See Logical Operators and Comparison Operators section for more on booleans."
   ]
  },
  {
   "attachments": {},
   "cell_type": "markdown",
   "metadata": {},
   "source": [
    "### Lists\n",
    "Unlike strings, lists are mutable sequences in python"
   ]
  },
  {
   "cell_type": "code",
   "execution_count": 150,
   "metadata": {},
   "outputs": [
    {
     "data": {
      "text/plain": [
       "[1, '3']"
      ]
     },
     "execution_count": 150,
     "metadata": {},
     "output_type": "execute_result"
    }
   ],
   "source": [
    "my_list = [1, 2, '3', True]# We assume this list won't mutate for each example below\n",
    "len(my_list)               # 4\n",
    "my_list.index('3')         # 2\n",
    "my_list.count(2)           # 1 --> count how many times 2 appears\n",
    "\n",
    "my_list[3]                 # True\n",
    "my_list[1:]                # [2, '3', True]\n",
    "my_list[:1]                # [1]\n",
    "my_list[-1]                # True\n",
    "my_list[::1]               # [1, 2, '3', True]\n",
    "my_list[::-1]              # [True, '3', 2, 1]\n",
    "my_list[0:3:2]             # [1, '3']\n",
    "\n",
    "# : is called slicing and has the format [ start : end : step ]"
   ]
  },
  {
   "cell_type": "code",
   "execution_count": 151,
   "metadata": {},
   "outputs": [
    {
     "data": {
      "text/plain": [
       "'Hello There'"
      ]
     },
     "execution_count": 151,
     "metadata": {},
     "output_type": "execute_result"
    }
   ],
   "source": [
    "# Add to List\n",
    "my_list * 2                # [1, 2, '3', True, 1, 2, '3', True]\n",
    "my_list + [100]            # [1, 2, '3', True, 100] --> doesn't mutate original list, creates new one\n",
    "my_list.append(100)        # None --> Mutates original list to [1, 2, '3', True, 100]          # Or: <list> += [<el>]\n",
    "my_list.extend([100, 200]) # None --> Mutates original list to [1, 2, '3', True, 100, 200]\n",
    "my_list.insert(2, '!!!')   # None -->  [1, 2, '!!!', '3', True] - Inserts item at index and moves the rest to the right.\n",
    "\n",
    "' '.join(['Hello','There'])# 'Hello There' --> Joins elements using string as separator."
   ]
  },
  {
   "cell_type": "code",
   "execution_count": 152,
   "metadata": {},
   "outputs": [],
   "source": [
    "# Copy a List\n",
    "basket = ['apples', 'pears', 'oranges']\n",
    "new_basket = basket.copy()\n",
    "new_basket2 = basket[:]"
   ]
  },
  {
   "cell_type": "code",
   "execution_count": 153,
   "metadata": {},
   "outputs": [],
   "source": [
    "# Remove from List\n",
    "[1,2,3].pop()    # 3 --> mutates original list, default index in the pop method is -1 (the last item)\n",
    "[1,2,3].pop(1)   # 2 --> mutates original list\n",
    "[1,2,3].remove(2)# None --> [1,3] Removes first occurrence of item or raises ValueError.\n",
    "[1,2,3].clear()  # None --> mutates original list and removes all items: []\n",
    "del [1,2,3][0]   # None --> removes item on index 0 or raises IndexError"
   ]
  },
  {
   "cell_type": "code",
   "execution_count": 154,
   "metadata": {},
   "outputs": [
    {
     "data": {
      "text/plain": [
       "[3, 5, 2, 1]"
      ]
     },
     "execution_count": 154,
     "metadata": {},
     "output_type": "execute_result"
    }
   ],
   "source": [
    "# Ordering\n",
    "[1,2,5,3].sort()         # None --> Mutates list to [1, 2, 3, 5]\n",
    "[1,2,5,3].sort(reverse=True) # None --> Mutates list to [5, 3, 2, 1]\n",
    "[1,2,5,3].reverse()      # None --> Mutates list to [3, 5, 2, 1]\n",
    "sorted([1,2,5,3])        # [1, 2, 3, 5] --> new list created\n",
    "my_list = [(4,1),(2,4),(2,5),(1,6),(8,9)]\n",
    "sorted(my_list,key=lambda x: int(x[0])) # [(1, 6), (2, 4), (2, 5), (4, 1), (8, 9)] --> sort the list by 1st (0th index) value of the tuple\n",
    "list(reversed([1,2,5,3]))# [3, 5, 2, 1] --> reversed() returns an iterator"
   ]
  },
  {
   "cell_type": "code",
   "execution_count": 155,
   "metadata": {},
   "outputs": [
    {
     "data": {
      "text/plain": [
       "15"
      ]
     },
     "execution_count": 155,
     "metadata": {},
     "output_type": "execute_result"
    }
   ],
   "source": [
    "# Useful operations\n",
    "1 in [1,2,5,3]  # True\n",
    "min([1,2,3,4,5])# 1\n",
    "max([1,2,3,4,5])# 5\n",
    "sum([1,2,3,4,5])# 15"
   ]
  },
  {
   "cell_type": "code",
   "execution_count": 156,
   "metadata": {},
   "outputs": [
    {
     "name": "stdout",
     "output_type": "stream",
     "text": [
      "63\n",
      "10\n"
     ]
    }
   ],
   "source": [
    "# Get First and Last element of a list\n",
    "mList = [63, 21, 30, 14, 35, 26, 77, 18, 49, 10]\n",
    "first, *x, last = mList\n",
    "print(first) #63\n",
    "print(last) #10"
   ]
  },
  {
   "cell_type": "code",
   "execution_count": 157,
   "metadata": {},
   "outputs": [
    {
     "name": "stdout",
     "output_type": "stream",
     "text": [
      "1\n",
      "2\n",
      "3\n",
      "4\n",
      "5\n",
      "6\n"
     ]
    },
    {
     "data": {
      "text/plain": [
       "[(1, 4), (2, 5), (3, 6)]"
      ]
     },
     "execution_count": 157,
     "metadata": {},
     "output_type": "execute_result"
    }
   ],
   "source": [
    "# Matrix\n",
    "matrix = [[1,2,3], [4,5,6], [7,8,9]]\n",
    "matrix[2][0] # 7 --> Grab first first of the third item in the matrix object\n",
    "\n",
    "# Looping through a matrix by rows:\n",
    "mx = [[1,2,3],[4,5,6]]\n",
    "for row in range(len(mx)):\n",
    "\tfor col in range(len(mx[0])):\n",
    "\t\tprint(mx[row][col]) # 1 2 3 4 5 6\n",
    "    \n",
    "# Transform into a list:\n",
    "[mx[row][col] for row in range(len(mx)) for col in range(len(mx[0]))] # [1,2,3,4,5,6]\n",
    "\n",
    "# Combine columns with zip and *:\n",
    "[x for x in zip(*mx)] # [(1, 3), (2, 4)]\n"
   ]
  },
  {
   "cell_type": "code",
   "execution_count": 158,
   "metadata": {},
   "outputs": [],
   "source": [
    "# List Comprehensions\n",
    "# new_list[<action> for <item> in <iterator> if <some condition>]\n",
    "a = [i for i in 'hello']                  # ['h', 'e', 'l', 'l', '0']\n",
    "b = [i*2 for i in [1,2,3]]                # [2, 4, 6]\n",
    "c = [i for i in range(0,10) if i % 2 == 0]# [0, 2, 4, 6, 8]"
   ]
  },
  {
   "cell_type": "code",
   "execution_count": 159,
   "metadata": {},
   "outputs": [],
   "source": [
    "# Advanced Functions\n",
    "list_of_chars = list('Helloooo')                                   # ['H', 'e', 'l', 'l', 'o', 'o', 'o', 'o']\n",
    "sum_of_elements = sum([1,2,3,4,5])                                 # 15\n",
    "element_sum = [sum(pair) for pair in zip([1,2,3],[4,5,6])]         # [5, 7, 9]\n",
    "sorted_by_second = sorted(['hi','you','man'], key=lambda el: el[1])# ['man', 'hi', 'you']\n",
    "sorted_by_key = sorted([\n",
    "                       {'name': 'Bina', 'age': 30},\n",
    "                       {'name':'Andy', 'age': 18},\n",
    "                       {'name': 'Zoey', 'age': 55}],\n",
    "                       key=lambda el: (el['name']))# [{'name': 'Andy', 'age': 18}, {'name': 'Bina', 'age': 30}, {'name': 'Zoey', 'age': 55}]"
   ]
  },
  {
   "cell_type": "code",
   "execution_count": 160,
   "metadata": {},
   "outputs": [
    {
     "data": {
      "text/plain": [
       "['First Line', 'Second line']"
      ]
     },
     "execution_count": 160,
     "metadata": {},
     "output_type": "execute_result"
    }
   ],
   "source": [
    "# Read line of a file into a list\n",
    "with open(\"myfile.txt\") as f:\n",
    "  lines = [line.strip() for line in f]\n",
    "lines"
   ]
  },
  {
   "attachments": {},
   "cell_type": "markdown",
   "metadata": {},
   "source": [
    "### Dictionaries\n",
    "Also known as mappings or hash tables. They are key value pairs that are guaranteed to retain order of insertion starting from Python 3.7"
   ]
  },
  {
   "cell_type": "code",
   "execution_count": 161,
   "metadata": {},
   "outputs": [],
   "source": [
    "my_dict = {'name': 'Andrei Neagoie', 'age': 30, 'magic_power': False}\n",
    "my_dict['name']                      # Andrei Neagoie\n",
    "len(my_dict)                         # 3\n",
    "list(my_dict.keys())                 # ['name', 'age', 'magic_power']\n",
    "list(my_dict.values())               # ['Andrei Neagoie', 30, False]\n",
    "list(my_dict.items())                # [('name', 'Andrei Neagoie'), ('age', 30), ('magic_power', False)]\n",
    "my_dict['favourite_snack'] = 'Grapes'# {'name': 'Andrei Neagoie', 'age': 30, 'magic_power': False, 'favourite_snack': 'Grapes'}\n",
    "my_dict.get('age')                   # 30 --> Returns None if key does not exist.\n",
    "my_dict.get('ages', 0 )              # 0 --> Returns default (2nd param) if key is not found\n",
    "\n",
    "#Remove key\n",
    "del my_dict['name']\n",
    "my_dict.pop('name', None)"
   ]
  },
  {
   "cell_type": "code",
   "execution_count": 162,
   "metadata": {},
   "outputs": [
    {
     "data": {
      "text/plain": [
       "{'age': 30, 'magic_power': False, 'cool': True}"
      ]
     },
     "execution_count": 162,
     "metadata": {},
     "output_type": "execute_result"
    }
   ],
   "source": [
    "my_dict.update({'cool': True})                                         # {'name': 'Andrei Neagoie', 'age': 30, 'magic_power': False, 'favourite_snack': 'Grapes', 'cool': True}\n",
    "{**my_dict, **{'cool': True} }                                         # {'name': 'Andrei Neagoie', 'age': 30, 'magic_power': False, 'favourite_snack': 'Grapes', 'cool': True}\n",
    "new_dict = dict([['name','Andrei'],['age',32],['magic_power',False]])  # Creates a dict from collection of key-value pairs.\n",
    "new_dict = dict(zip(['name','age','magic_power'],['Andrei',32, False]))# Creates a dict from two collections.\n",
    "new_dict = my_dict.pop('favourite_snack')                              # Removes item from dictionary.\n",
    "my_dict"
   ]
  },
  {
   "cell_type": "code",
   "execution_count": 163,
   "metadata": {},
   "outputs": [
    {
     "data": {
      "text/plain": [
       "{'name': 'Andrei Neagoie', 'age': 30}"
      ]
     },
     "execution_count": 163,
     "metadata": {},
     "output_type": "execute_result"
    }
   ],
   "source": [
    "# Dictionary Comprehension\n",
    "my_dict = {'name': 'Andrei Neagoie', 'age': 30, 'magic_power': False}               # Andrei Neagoie\n",
    "{key: value for key, value in my_dict.items() if key == 'age' or key == 'name'} # {'name': 'Andrei', 'age': 32} --> Filter dict by keys"
   ]
  },
  {
   "attachments": {},
   "cell_type": "markdown",
   "metadata": {},
   "source": [
    "### Tuples\n",
    "Like lists, but they are used for immutable thing (that don't change)"
   ]
  },
  {
   "cell_type": "code",
   "execution_count": 164,
   "metadata": {},
   "outputs": [
    {
     "data": {
      "text/plain": [
       "('apple', 'grapes', 'mango', 'grapes')"
      ]
     },
     "execution_count": 164,
     "metadata": {},
     "output_type": "execute_result"
    }
   ],
   "source": [
    "my_tuple = ('apple','grapes','mango', 'grapes')\n",
    "apple, grapes, mango, grapes = my_tuple# Tuple unpacking\n",
    "len(my_tuple)                          # 4\n",
    "my_tuple[2]                            # mango\n",
    "my_tuple[-1]                           # 'grapes'\n",
    "my_tuple"
   ]
  },
  {
   "cell_type": "code",
   "execution_count": 165,
   "metadata": {},
   "outputs": [
    {
     "name": "stdout",
     "output_type": "stream",
     "text": [
      "TypeError was raised: 'tuple' object does not support item assignment\n",
      "AttributeError was raised: 'tuple' object has no attribute 'append'\n"
     ]
    }
   ],
   "source": [
    "# Immutability\n",
    "try:\n",
    "    my_tuple[1] = 'donuts'  # TypeError\n",
    "except Exception as err:\n",
    "    print(str(type(err).__name__) + \" was raised: \" + str(err))\n",
    "try:\n",
    "    my_tuple.append('candy')# AttributeError\n",
    "except Exception as err:\n",
    "    print(f\"{type(err).__name__} was raised: {err}\")"
   ]
  },
  {
   "cell_type": "code",
   "execution_count": 166,
   "metadata": {},
   "outputs": [
    {
     "data": {
      "text/plain": [
       "(1, 2)"
      ]
     },
     "execution_count": 166,
     "metadata": {},
     "output_type": "execute_result"
    }
   ],
   "source": [
    "# Methods\n",
    "my_tuple.index('grapes') , my_tuple.count('grapes') "
   ]
  },
  {
   "cell_type": "code",
   "execution_count": 167,
   "metadata": {},
   "outputs": [
    {
     "data": {
      "text/plain": [
       "[(1, 4), (2, 5), (3, 6)]"
      ]
     },
     "execution_count": 167,
     "metadata": {},
     "output_type": "execute_result"
    }
   ],
   "source": [
    "# Zip\n",
    "list(zip([1,2,3], [4,5,6])) # [(1, 4), (2, 5), (3, 6)]"
   ]
  },
  {
   "cell_type": "code",
   "execution_count": 168,
   "metadata": {},
   "outputs": [
    {
     "data": {
      "text/plain": [
       "[(1, 3, 5, 7), (2, 4, 6, 8)]"
      ]
     },
     "execution_count": 168,
     "metadata": {},
     "output_type": "execute_result"
    }
   ],
   "source": [
    "# unzip\n",
    "z = [(1, 2), (3, 4), (5, 6), (7, 8)] # Some output of zip() function\n",
    "unzip = lambda z: list(zip(*z))\n",
    "unzip(z)"
   ]
  },
  {
   "attachments": {},
   "cell_type": "markdown",
   "metadata": {},
   "source": [
    "### Sets\n",
    "Unorderd collection of unique elements."
   ]
  },
  {
   "cell_type": "code",
   "execution_count": 169,
   "metadata": {},
   "outputs": [
    {
     "data": {
      "text/plain": [
       "{1, 100}"
      ]
     },
     "execution_count": 169,
     "metadata": {},
     "output_type": "execute_result"
    }
   ],
   "source": [
    "my_set = set()\n",
    "my_set.add(1)  # {1}\n",
    "my_set.add(100)# {1, 100}\n",
    "my_set.add(100)# {1, 100} --> no duplicates!\n",
    "my_set"
   ]
  },
  {
   "cell_type": "code",
   "execution_count": 170,
   "metadata": {},
   "outputs": [
    {
     "name": "stdout",
     "output_type": "stream",
     "text": [
      "{1, 2, 3}\n"
     ]
    }
   ],
   "source": [
    "new_list = [1,2,3,3,3,4,4,5,6,1]\n",
    "set(new_list)           # {1, 2, 3, 4, 5, 6}\n",
    "try:\n",
    "    my_set.remove(100)      # {1} --> Raises KeyError if element not found\n",
    "except Exception as err:\n",
    "    print(f\"{type(err).__name__} was raised: {err}\")\n",
    "my_set.discard(100)     # {1} --> Doesn't raise an error if element not found\n",
    "my_set.clear()          # {}\n",
    "new_set = {1,2,3}.copy()# {1,2,3}\n",
    "print(new_set)"
   ]
  },
  {
   "cell_type": "code",
   "execution_count": 171,
   "metadata": {},
   "outputs": [
    {
     "data": {
      "text/plain": [
       "False"
      ]
     },
     "execution_count": 171,
     "metadata": {},
     "output_type": "execute_result"
    }
   ],
   "source": [
    "set1 = {1,2,3}\n",
    "set2 = {3,4,5}\n",
    "set3 = set1.union(set2)               # {1,2,3,4,5}\n",
    "set4 = set1.intersection(set2)        # {3}\n",
    "set5 = set1.difference(set2)          # {1, 2}\n",
    "set6 = set1.symmetric_difference(set2)# {1, 2, 4, 5}\n",
    "set1.issubset(set2)                   # False\n",
    "set1.issuperset(set2)                 # False\n",
    "set1.isdisjoint(set2)                 # False --> return True if two sets have a null intersection."
   ]
  },
  {
   "cell_type": "code",
   "execution_count": 172,
   "metadata": {},
   "outputs": [],
   "source": [
    "# Frozenset\n",
    "# hashable --> it can be used as a key in a dictionary or as an element in a set.\n",
    "# <frozenset> = frozenset(<collection>)"
   ]
  },
  {
   "attachments": {},
   "cell_type": "markdown",
   "metadata": {},
   "source": [
    "### None\n",
    "None is used for absence of a value and can be used to show nothing has been assigned to an object"
   ]
  },
  {
   "cell_type": "code",
   "execution_count": 173,
   "metadata": {},
   "outputs": [
    {
     "data": {
      "text/plain": [
       "(None, NoneType)"
      ]
     },
     "execution_count": 173,
     "metadata": {},
     "output_type": "execute_result"
    }
   ],
   "source": [
    "type(None) # NoneType\n",
    "a = None\n",
    "a, type(a)"
   ]
  },
  {
   "attachments": {},
   "cell_type": "markdown",
   "metadata": {},
   "source": [
    "## Python Basics"
   ]
  },
  {
   "attachments": {},
   "cell_type": "markdown",
   "metadata": {},
   "source": [
    "### Comparison Operators"
   ]
  },
  {
   "cell_type": "code",
   "execution_count": 174,
   "metadata": {},
   "outputs": [
    {
     "data": {
      "text/plain": [
       "'\\n==                   # equal values\\n!=                   # not equal\\n>                    # left operand is greater than right operand\\n<                    # left operand is less than right operand\\n>=                   # left operand is greater than or equal to right operand\\n<=                   # left operand is less than or equal to right operand\\n<element> is <element> # check if two operands refer to same object in memory\\n'"
      ]
     },
     "execution_count": 174,
     "metadata": {},
     "output_type": "execute_result"
    }
   ],
   "source": [
    "'''\n",
    "==                   # equal values\n",
    "!=                   # not equal\n",
    ">                    # left operand is greater than right operand\n",
    "<                    # left operand is less than right operand\n",
    ">=                   # left operand is greater than or equal to right operand\n",
    "<=                   # left operand is less than or equal to right operand\n",
    "<element> is <element> # check if two operands refer to same object in memory\n",
    "'''"
   ]
  },
  {
   "attachments": {},
   "cell_type": "markdown",
   "metadata": {},
   "source": [
    "### Logical Operators"
   ]
  },
  {
   "cell_type": "code",
   "execution_count": 175,
   "metadata": {},
   "outputs": [
    {
     "data": {
      "text/plain": [
       "'\\n1 < 2 and 4 > 1 # True\\n1 > 3 or 4 > 1  # True\\n1 is not 4      # True\\nnot True        # False\\n1 not in [2,3,4]# True\\n\\nif <condition that evaluates to boolean>:\\n# perform action1\\nelif <condition that evaluates to boolean>:\\n# perform action2\\nelse:\\n# perform action3\\n'"
      ]
     },
     "execution_count": 175,
     "metadata": {},
     "output_type": "execute_result"
    }
   ],
   "source": [
    "'''\n",
    "1 < 2 and 4 > 1 # True\n",
    "1 > 3 or 4 > 1  # True\n",
    "1 is not 4      # True\n",
    "not True        # False\n",
    "1 not in [2,3,4]# True\n",
    "\n",
    "if <condition that evaluates to boolean>:\n",
    "# perform action1\n",
    "elif <condition that evaluates to boolean>:\n",
    "# perform action2\n",
    "else:\n",
    "# perform action3\n",
    "'''"
   ]
  },
  {
   "attachments": {},
   "cell_type": "markdown",
   "metadata": {},
   "source": [
    "### Loops"
   ]
  },
  {
   "cell_type": "code",
   "execution_count": 176,
   "metadata": {},
   "outputs": [
    {
     "name": "stdout",
     "output_type": "stream",
     "text": [
      "1 2 3  \n",
      "1 2 3  \n",
      "(1, 2) (3, 4) (5, 6)  \n",
      "1 2 3  \n",
      "0  \n",
      "1 1  \n",
      "2 2  \n",
      "3 a  \n",
      "1 b  \n",
      "2 c  \n",
      "3 "
     ]
    }
   ],
   "source": [
    "my_list = [1,2,3]\n",
    "my_tuple = (1,2,3)\n",
    "my_list2 = [(1,2), (3,4), (5,6)]\n",
    "my_dict = {'a': 1, 'b': 2, 'c': 3}\n",
    "\n",
    "for num in my_list:\n",
    "    print(num, end=\" \") # 1, 2, 3\n",
    "print(\" \")\n",
    "\n",
    "for num in my_tuple:\n",
    "    print(num, end=\" \") # 1, 2, 3\n",
    "print(\" \")\n",
    "\n",
    "for num in my_list2:\n",
    "    print(num, end=\" \") # (1,2), (3,4), (5,6)\n",
    "print(\" \")\n",
    "\n",
    "for num in '123':\n",
    "    print(num, end=\" \") # 1, 2, 3\n",
    "print(\" \")\n",
    "\n",
    "for idx,value in enumerate(my_list):\n",
    "    print(idx, end=\" \") \n",
    "    print(\" \")# get the index of the item\n",
    "    print(value, end=\" \") # get the value\n",
    "\n",
    "for k,v in my_dict.items(): # Dictionary Unpacking\n",
    "    print(k, end=\" \") # 'a', 'b', 'c'\n",
    "    print(\" \")\n",
    "    print(v, end=\" \") # 1, 2, 3\n",
    "\n",
    "# while <condition that evaluates to boolean>:\n",
    "#   # action\n",
    "#   if <condition that evaluates to boolean>:\n",
    "#     break # break out of while loop\n",
    "#   if <condition that evaluates to boolean>:\n",
    "#     continue # continue to the next line in the block"
   ]
  },
  {
   "cell_type": "code",
   "execution_count": 177,
   "metadata": {},
   "outputs": [
    {
     "name": "stdout",
     "output_type": "stream",
     "text": [
      "hi\n",
      "hello\n",
      "qiut\n",
      "quit\n"
     ]
    }
   ],
   "source": [
    "# waiting until user quits\n",
    "msg = ''\n",
    "while msg != 'quit':\n",
    "    msg = input(\"What should I do?\")\n",
    "    print(msg)"
   ]
  },
  {
   "attachments": {},
   "cell_type": "markdown",
   "metadata": {},
   "source": [
    "### Range"
   ]
  },
  {
   "cell_type": "code",
   "execution_count": 178,
   "metadata": {},
   "outputs": [
    {
     "data": {
      "text/plain": [
       "[0, 2, 4, 6, 8]"
      ]
     },
     "execution_count": 178,
     "metadata": {},
     "output_type": "execute_result"
    }
   ],
   "source": [
    "range(10)          # range(0, 10) --> 0 to 9\n",
    "range(1,10)        # range(1, 10)\n",
    "list(range(0,10,2))# [0, 2, 4, 6, 8]"
   ]
  },
  {
   "attachments": {},
   "cell_type": "markdown",
   "metadata": {},
   "source": [
    "### Enumerate"
   ]
  },
  {
   "cell_type": "code",
   "execution_count": 179,
   "metadata": {},
   "outputs": [
    {
     "name": "stdout",
     "output_type": "stream",
     "text": [
      "0, h\n",
      "1, e\n",
      "2, l\n",
      "3, l\n",
      "4, o\n",
      "5, o\n"
     ]
    }
   ],
   "source": [
    "for i, el in enumerate('helloo'):\n",
    "  print(f'{i}, {el}')"
   ]
  },
  {
   "attachments": {},
   "cell_type": "markdown",
   "metadata": {},
   "source": [
    "### Counter"
   ]
  },
  {
   "cell_type": "code",
   "execution_count": 180,
   "metadata": {},
   "outputs": [
    {
     "data": {
      "text/plain": [
       "('blue', 3)"
      ]
     },
     "execution_count": 180,
     "metadata": {},
     "output_type": "execute_result"
    }
   ],
   "source": [
    "from collections import Counter\n",
    "colors = ['red', 'blue', 'yellow', 'blue', 'red', 'blue']\n",
    "counter = Counter(colors)# Counter({'blue': 3, 'red': 2, 'yellow': 1})\n",
    "counter.most_common()[0] # ('blue', 3)"
   ]
  },
  {
   "attachments": {},
   "cell_type": "markdown",
   "metadata": {},
   "source": [
    "### Named Tuple\n",
    "- Tuple is an immutable and hashable list.\n",
    "- Named tuple is its subclass with named elements."
   ]
  },
  {
   "cell_type": "code",
   "execution_count": 181,
   "metadata": {},
   "outputs": [
    {
     "data": {
      "text/plain": [
       "('x', 'y')"
      ]
     },
     "execution_count": 181,
     "metadata": {},
     "output_type": "execute_result"
    }
   ],
   "source": [
    "from collections import namedtuple\n",
    "Point = namedtuple('Point', 'x y')\n",
    "p = Point(1, y=2)# Point(x=1, y=2)\n",
    "p[0]             # 1\n",
    "p.x              # 1\n",
    "getattr(p, 'y')  # 2\n",
    "p._fields        # Or: Point._fields #('x', 'y')                           "
   ]
  },
  {
   "cell_type": "code",
   "execution_count": 182,
   "metadata": {},
   "outputs": [
    {
     "data": {
      "text/plain": [
       "'187'"
      ]
     },
     "execution_count": 182,
     "metadata": {},
     "output_type": "execute_result"
    }
   ],
   "source": [
    "from collections import namedtuple\n",
    "Person = namedtuple('Person', 'name height')\n",
    "person = Person('Jean-Luc', 187)\n",
    "f'{person.height}'           # '187'\n",
    "'{p.height}'.format(p=person)# '187'"
   ]
  },
  {
   "attachments": {},
   "cell_type": "markdown",
   "metadata": {},
   "source": [
    "### OrderedDict\n",
    "- Maintains order of insertion"
   ]
  },
  {
   "cell_type": "code",
   "execution_count": 183,
   "metadata": {},
   "outputs": [
    {
     "name": "stdout",
     "output_type": "stream",
     "text": [
      "Tim-->\n",
      "\tpython\n",
      "\tjavascript\n",
      "Sarah-->\n",
      "\tC++\n",
      "Bia-->\n",
      "\tRuby\n",
      "\tPython\n",
      "\tGo\n"
     ]
    }
   ],
   "source": [
    "from collections import OrderedDict\n",
    "# Store each person's languages, keeping # track of who responded first. \n",
    "programmers = OrderedDict()\n",
    "programmers['Tim'] = ['python', 'javascript']\n",
    "programmers['Sarah'] = ['C++']\n",
    "programmers['Bia'] = ['Ruby', 'Python', 'Go']\n",
    "\n",
    "for name, langs in programmers.items():\n",
    "    print(name + '-->')\n",
    "    for lang in langs:\n",
    "      print('\\t' + lang)\n"
   ]
  },
  {
   "attachments": {},
   "cell_type": "markdown",
   "metadata": {},
   "source": [
    "## Functions"
   ]
  },
  {
   "attachments": {},
   "cell_type": "markdown",
   "metadata": {},
   "source": [
    "### Functions\n",
    "\\*args and \\*\\*kwargs <br>\n",
    "Splat (*) expands a collection into positional arguments, while splatty-splat (**) expands a dictionary into keyword arguments."
   ]
  },
  {
   "cell_type": "code",
   "execution_count": 184,
   "metadata": {},
   "outputs": [
    {
     "name": "stdout",
     "output_type": "stream",
     "text": [
      "3\n",
      "6\n",
      "8\n"
     ]
    }
   ],
   "source": [
    "def add(x=0, y=0, z=0):\n",
    "    return x+y+z\n",
    "\n",
    "args = (1, 2)\n",
    "print(add(*args))\n",
    "args = (1, 2, 3) \n",
    "print(add(*args))\n",
    "kwargs = {'x': 3, 'z': 5}\n",
    "print(add(**kwargs))"
   ]
  },
  {
   "attachments": {},
   "cell_type": "markdown",
   "metadata": {},
   "source": [
    "\\*  Inside Function Definition\n",
    "\n",
    "Splat combines zero or more positional arguments into a tuple, while splatty-splat combines zero or more keyword arguments into a dictionary."
   ]
  },
  {
   "cell_type": "code",
   "execution_count": 185,
   "metadata": {},
   "outputs": [
    {
     "name": "stdout",
     "output_type": "stream",
     "text": [
      "1 2 3 "
     ]
    }
   ],
   "source": [
    "def prnt(*tup):\n",
    "    for element in tup:\n",
    "        print(element, end=\" \")\n",
    "\n",
    "prnt(1, 2, 3)"
   ]
  },
  {
   "cell_type": "code",
   "execution_count": 186,
   "metadata": {},
   "outputs": [
    {
     "name": "stdout",
     "output_type": "stream",
     "text": [
      "dict_keys(['x', 'y', 'z'])\n",
      "dict_values([1, 2, 3])\n",
      "dict_items([('x', 1), ('y', 2), ('z', 3)])\n",
      "x -> 1\n",
      "y -> 2\n",
      "z -> 3\n"
     ]
    }
   ],
   "source": [
    "def prnt(**kwarg):\n",
    "    print(kwarg.keys())\n",
    "    print(kwarg.values())\n",
    "    print(kwarg.items())\n",
    "\n",
    "    for key in kwarg:\n",
    "        print(key, '->', kwarg[key])\n",
    "\n",
    "prnt(x=1, y=2, z=3)"
   ]
  },
  {
   "cell_type": "code",
   "execution_count": 187,
   "metadata": {},
   "outputs": [],
   "source": [
    "# def f(*args):                  # f(1, 2, 3)\n",
    "# def f(x, *args):               # f(1, 2, 3)\n",
    "# def f(*args, z):               # f(1, 2, z=3)\n",
    "# def f(x, *args, z):            # f(1, 2, z=3)\n",
    "\n",
    "# def f(**kwargs):               # f(x=1, y=2, z=3)\n",
    "# def f(x, **kwargs):            # f(x=1, y=2, z=3) | f(1, y=2, z=3)\n",
    "\n",
    "# def f(*args, **kwargs):        # f(x=1, y=2, z=3) | f(1, y=2, z=3) | f(1, 2, z=3) | f(1, 2, 3)\n",
    "# def f(x, *args, **kwargs):     # f(x=1, y=2, z=3) | f(1, y=2, z=3) | f(1, 2, z=3) | f(1, 2, 3)\n",
    "# def f(*args, y, **kwargs):     # f(x=1, y=2, z=3) | f(1, y=2, z=3)\n",
    "# def f(x, *args, z, **kwargs):  # f(x=1, y=2, z=3) | f(1, y=2, z=3) | f(1, 2, z=3)"
   ]
  },
  {
   "cell_type": "code",
   "execution_count": 188,
   "metadata": {},
   "outputs": [
    {
     "data": {
      "text/plain": [
       "{'a': 1, 'b': 2, 'c': 3}"
      ]
     },
     "execution_count": 188,
     "metadata": {},
     "output_type": "execute_result"
    }
   ],
   "source": [
    "[*[1,2,3], *[4]]                # [1, 2, 3, 4]\n",
    "{*[1,2,3], *[4]}                # {1, 2, 3, 4}\n",
    "(*[1,2,3], *[4])                # (1, 2, 3, 4)\n",
    "{**{'a': 1, 'b': 2}, **{'c': 3}}# {'a': 1, 'b': 2, 'c': 3}"
   ]
  },
  {
   "cell_type": "code",
   "execution_count": 189,
   "metadata": {},
   "outputs": [
    {
     "data": {
      "text/plain": [
       "(1, [2, 3, 4], 5)"
      ]
     },
     "execution_count": 189,
     "metadata": {},
     "output_type": "execute_result"
    }
   ],
   "source": [
    "head, *body, tail = [1,2,3,4,5]\n",
    "head, body, tail"
   ]
  },
  {
   "attachments": {},
   "cell_type": "markdown",
   "metadata": {},
   "source": [
    "### Lambda"
   ]
  },
  {
   "cell_type": "code",
   "execution_count": 190,
   "metadata": {},
   "outputs": [],
   "source": [
    "# lambda: <return_value>\n",
    "# lambda <argument1>, <argument2>: <return_value>"
   ]
  },
  {
   "cell_type": "code",
   "execution_count": 191,
   "metadata": {},
   "outputs": [
    {
     "name": "stdout",
     "output_type": "stream",
     "text": [
      "6\n"
     ]
    }
   ],
   "source": [
    "# Factorial\n",
    "from functools import reduce\n",
    "\n",
    "n = 3\n",
    "factorial = reduce(lambda x, y: x*y, range(1, n+1))\n",
    "print(factorial) #6"
   ]
  },
  {
   "cell_type": "code",
   "execution_count": 192,
   "metadata": {},
   "outputs": [
    {
     "name": "stdout",
     "output_type": "stream",
     "text": [
      "55\n"
     ]
    }
   ],
   "source": [
    "# Fibonacci\n",
    "fib = lambda n : n if n <= 1 else fib(n-1) + fib(n-2)\n",
    "result = fib(10)\n",
    "print(result) #55"
   ]
  },
  {
   "attachments": {},
   "cell_type": "markdown",
   "metadata": {},
   "source": [
    "### Comprehensions"
   ]
  },
  {
   "cell_type": "code",
   "execution_count": 193,
   "metadata": {},
   "outputs": [],
   "source": [
    "# <list> = [i+1 for i in range(10)]         # [1, 2, ..., 10]\n",
    "# <set>  = {i for i in range(10) if i > 5}  # {6, 7, 8, 9}\n",
    "# <iter> = (i+5 for i in range(10))         # (5, 6, ..., 14)\n",
    "# <dict> = {i: i*2 for i in range(10)}      # {0: 0, 1: 2, ..., 9: 18}"
   ]
  },
  {
   "cell_type": "code",
   "execution_count": 194,
   "metadata": {},
   "outputs": [],
   "source": [
    "output = [i+j for i in range(3) for j in range(3)] # [0, 1, 2, 1, 2, 3, 2, 3, 4]\n",
    "\n",
    "# Is the same as:\n",
    "output = []\n",
    "for i in range(3):\n",
    "  for j in range(3):\n",
    "    output.append(i+j)"
   ]
  },
  {
   "attachments": {},
   "cell_type": "markdown",
   "metadata": {},
   "source": [
    "### Ternary Condition"
   ]
  },
  {
   "cell_type": "code",
   "execution_count": 195,
   "metadata": {},
   "outputs": [
    {
     "data": {
      "text/plain": [
       "['zero', 1, 'zero', 3]"
      ]
     },
     "execution_count": 195,
     "metadata": {},
     "output_type": "execute_result"
    }
   ],
   "source": [
    "# <expression_if_true> if <condition> else <expression_if_false>\n",
    "\n",
    "[a if a else 'zero' for a in [0, 1, 0, 3]] # ['zero', 1, 'zero', 3]"
   ]
  },
  {
   "attachments": {},
   "cell_type": "markdown",
   "metadata": {},
   "source": [
    "### Map Filter Reduce"
   ]
  },
  {
   "cell_type": "code",
   "execution_count": 196,
   "metadata": {},
   "outputs": [
    {
     "data": {
      "text/plain": [
       "45"
      ]
     },
     "execution_count": 196,
     "metadata": {},
     "output_type": "execute_result"
    }
   ],
   "source": [
    "from functools import reduce\n",
    "list(map(lambda x: x + 1, range(10)))            # [1, 2, 3, 4, 5, 6, 7, 8, 9,10]\n",
    "list(filter(lambda x: x > 5, range(10)))         # (6, 7, 8, 9)\n",
    "reduce(lambda acc, x: acc + x, range(10))        # 45"
   ]
  },
  {
   "attachments": {},
   "cell_type": "markdown",
   "metadata": {},
   "source": [
    "### Any All"
   ]
  },
  {
   "cell_type": "code",
   "execution_count": 197,
   "metadata": {},
   "outputs": [
    {
     "data": {
      "text/plain": [
       "True"
      ]
     },
     "execution_count": 197,
     "metadata": {},
     "output_type": "execute_result"
    }
   ],
   "source": [
    "any([False, True, False])# True if at least one item in collection is truthy, False if empty.\n",
    "all([True,1,3,True])     # True if all items in collection are true"
   ]
  },
  {
   "attachments": {},
   "cell_type": "markdown",
   "metadata": {},
   "source": [
    "### Closures\n",
    "We have a closure in Python when:\n",
    "\n",
    "- A nested function references a value of its enclosing function and then\n",
    "- the enclosing function returns the nested function."
   ]
  },
  {
   "cell_type": "code",
   "execution_count": 198,
   "metadata": {},
   "outputs": [],
   "source": [
    "def get_multiplier(a):\n",
    "    def out(b):\n",
    "        return a * b\n",
    "    return out"
   ]
  },
  {
   "cell_type": "code",
   "execution_count": 199,
   "metadata": {},
   "outputs": [
    {
     "data": {
      "text/plain": [
       "30"
      ]
     },
     "execution_count": 199,
     "metadata": {},
     "output_type": "execute_result"
    }
   ],
   "source": [
    "multiply_by_3 = get_multiplier(3)\n",
    "multiply_by_3(10)"
   ]
  },
  {
   "attachments": {},
   "cell_type": "markdown",
   "metadata": {},
   "source": [
    "- If multiple nested functions within enclosing function reference the same value, that value gets shared.\n",
    "- To dynamically access function's first free variable use '&lt;function&gt;.\\__closure__[0].cell_contents'."
   ]
  },
  {
   "attachments": {},
   "cell_type": "markdown",
   "metadata": {},
   "source": [
    "### Scope\n",
    "If variable is being assigned to anywhere in the scope, it is regarded as a local variable, unless it is declared as a 'global' or a 'nonlocal'."
   ]
  },
  {
   "cell_type": "code",
   "execution_count": 200,
   "metadata": {},
   "outputs": [],
   "source": [
    "def get_counter():\n",
    "    i = 0\n",
    "    def out():\n",
    "        nonlocal i\n",
    "        i += 1\n",
    "        return i\n",
    "    return out"
   ]
  },
  {
   "cell_type": "code",
   "execution_count": 201,
   "metadata": {},
   "outputs": [
    {
     "data": {
      "text/plain": [
       "(1, 2, 3)"
      ]
     },
     "execution_count": 201,
     "metadata": {},
     "output_type": "execute_result"
    }
   ],
   "source": [
    "counter = get_counter()\n",
    "counter(), counter(), counter()\n",
    "(1, 2, 3)"
   ]
  },
  {
   "attachments": {},
   "cell_type": "markdown",
   "metadata": {},
   "source": [
    "## Advanced Python"
   ]
  },
  {
   "attachments": {},
   "cell_type": "markdown",
   "metadata": {},
   "source": [
    "### Modules"
   ]
  },
  {
   "cell_type": "code",
   "execution_count": 203,
   "metadata": {},
   "outputs": [],
   "source": [
    "if __name__ == '__main__': # Runs main() if file wasn't imported.\n",
    "    pass"
   ]
  },
  {
   "cell_type": "code",
   "execution_count": null,
   "metadata": {},
   "outputs": [],
   "source": [
    "# import <module_name>\n",
    "# from <module_name> import <function_name>\n",
    "# import <module_name> as m\n",
    "# from <module_name> import <function_name> as m_function\n",
    "# from <module_name> import *"
   ]
  },
  {
   "attachments": {},
   "cell_type": "markdown",
   "metadata": {},
   "source": [
    "### Iterators\n",
    "In this cheatsheet '&lt;collection&gt;' can also mean an iterator."
   ]
  },
  {
   "cell_type": "code",
   "execution_count": null,
   "metadata": {},
   "outputs": [],
   "source": [
    "# <iter> = iter(<collection>)\n",
    "# <iter> = iter(<function>, to_exclusive)     # Sequence of return values until 'to_exclusive'.\n",
    "# <el>   = next(<iter> [, default])           # Raises StopIteration or returns 'default' on end."
   ]
  },
  {
   "attachments": {},
   "cell_type": "markdown",
   "metadata": {},
   "source": [
    "### Generators\n",
    "Convenient way to implement the iterator protocol."
   ]
  },
  {
   "cell_type": "code",
   "execution_count": 206,
   "metadata": {},
   "outputs": [],
   "source": [
    "def count(start, step):\n",
    "    while True:\n",
    "        yield start\n",
    "        start += step"
   ]
  },
  {
   "cell_type": "code",
   "execution_count": 207,
   "metadata": {},
   "outputs": [
    {
     "data": {
      "text/plain": [
       "(10, 12, 14)"
      ]
     },
     "execution_count": 207,
     "metadata": {},
     "output_type": "execute_result"
    }
   ],
   "source": [
    "counter = count(10, 2)\n",
    "next(counter), next(counter), next(counter)"
   ]
  },
  {
   "attachments": {},
   "cell_type": "markdown",
   "metadata": {},
   "source": [
    "### Decorators\n",
    "A decorator takes a function, adds some functionality and returns it."
   ]
  },
  {
   "cell_type": "code",
   "execution_count": 210,
   "metadata": {},
   "outputs": [],
   "source": [
    "@property  #decorator_name\n",
    "def function_that_gets_passed_to_decorator():\n",
    "    pass"
   ]
  },
  {
   "attachments": {},
   "cell_type": "markdown",
   "metadata": {},
   "source": [
    "Example Decorator: timing performance using a decorator.\n",
    "\n",
    "* The functools decorator @functools.wraps is used to maintain function naming and documentation of the function within the decorator. <br>\n",
    "\n",
    "https://stackoverflow.com/questions/51891951/python-decorator-typeerror-missing-1-required-positional-argument"
   ]
  },
  {
   "cell_type": "code",
   "execution_count": 220,
   "metadata": {},
   "outputs": [],
   "source": [
    "from time import time \n",
    "import functools\n",
    "\n",
    "def performance(func):\n",
    "\n",
    "    @functools.wraps\n",
    "    def wrapper(*args, **kwargs):\n",
    "        t1 = time()\n",
    "        result = func(*args, **kwargs)\n",
    "        t2 = time() \n",
    "        print(f\"Took: {t2 - t1} ms\")\n",
    "        return result\n",
    "    return wrapper\n",
    "\n",
    "# calling a function with the decorator \n",
    "@performance\n",
    "def long_time():\n",
    "    print(sum(i*i for i in range(10)))\n",
    "\n",
    "#long_time()"
   ]
  },
  {
   "attachments": {},
   "cell_type": "markdown",
   "metadata": {},
   "source": [
    "#### Debugger Example\n",
    "Decorator that prints function's name every time it gets called."
   ]
  },
  {
   "cell_type": "code",
   "execution_count": 221,
   "metadata": {},
   "outputs": [
    {
     "name": "stdout",
     "output_type": "stream",
     "text": [
      "add\n"
     ]
    },
    {
     "data": {
      "text/plain": [
       "3"
      ]
     },
     "execution_count": 221,
     "metadata": {},
     "output_type": "execute_result"
    }
   ],
   "source": [
    "from functools import wraps\n",
    "\n",
    "def debug(func):\n",
    "    @wraps(func)\n",
    "    def out(*args, **kwargs):\n",
    "        print(func.__name__)\n",
    "        return func(*args, **kwargs)\n",
    "    return out\n",
    "\n",
    "@debug\n",
    "def add(x, y):\n",
    "    return x + y\n",
    "\n",
    "add(1,2)"
   ]
  },
  {
   "attachments": {},
   "cell_type": "markdown",
   "metadata": {},
   "source": [
    "- Wraps is a helper decorator that copies metadata of function add() to function out().\n",
    "- Without it 'add.__name__' would return 'out'."
   ]
  },
  {
   "attachments": {},
   "cell_type": "markdown",
   "metadata": {},
   "source": [
    "### Class\n",
    "User defined objects are created using the class keyword"
   ]
  },
  {
   "cell_type": "code",
   "execution_count": 223,
   "metadata": {},
   "outputs": [],
   "source": [
    "class name:\n",
    "    age = 80 # Class Object Attribute\n",
    "    def __init__(self, a):\n",
    "        self.a = a # Object Attribute\n",
    "\n",
    "    @classmethod\n",
    "    def get_class_name(cls):\n",
    "        return cls.__name__"
   ]
  },
  {
   "attachments": {},
   "cell_type": "markdown",
   "metadata": {},
   "source": [
    "#### Inheritance"
   ]
  },
  {
   "cell_type": "code",
   "execution_count": 224,
   "metadata": {},
   "outputs": [],
   "source": [
    "class Person:\n",
    "    def __init__(self, name, age):\n",
    "        self.name = name\n",
    "        self.age  = age\n",
    "\n",
    "class Employee(Person):\n",
    "    def __init__(self, name, age, staff_num):\n",
    "        super().__init__(name, age)\n",
    "        self.staff_num = staff_num"
   ]
  }
 ],
 "metadata": {
  "kernelspec": {
   "display_name": "open_ai",
   "language": "python",
   "name": "python3"
  },
  "language_info": {
   "codemirror_mode": {
    "name": "ipython",
    "version": 3
   },
   "file_extension": ".py",
   "mimetype": "text/x-python",
   "name": "python",
   "nbconvert_exporter": "python",
   "pygments_lexer": "ipython3",
   "version": "3.10.6"
  },
  "orig_nbformat": 4
 },
 "nbformat": 4,
 "nbformat_minor": 2
}
