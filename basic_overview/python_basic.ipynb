{
 "cells": [
  {
   "attachments": {},
   "cell_type": "markdown",
   "metadata": {},
   "source": [
    "# Python cheatsheet with basic python commands "
   ]
  },
  {
   "attachments": {},
   "cell_type": "markdown",
   "metadata": {},
   "source": [
    "Contents <br>\n",
    "___\n",
    "Python Types: <br> \n",
    "Numbers, Strings, Boolean, Lists, Dictionaries, Tuples, Sets, None\n",
    "\n",
    "Python Basics: <br>\n",
    "Comparison Operators, Logical Operators, Loops, Range, Enumerate, Counter, Named Tuple, OrderedDict\n",
    "\n",
    "Functions: <br>\n",
    "Functions, Lambda, Comprehensions, Map, Filter, Reduce, Ternary, Any, All, Closures, Scope\n",
    "\n",
    "Advanced Python: <br>\n",
    "Modules, Iterators, Generators, Decorators, Class, Exceptions, Command Line Arguments, File IO, Useful Libraries\n"
   ]
  },
  {
   "attachments": {},
   "cell_type": "markdown",
   "metadata": {},
   "source": [
    "## Python Types"
   ]
  },
  {
   "attachments": {},
   "cell_type": "markdown",
   "metadata": {},
   "source": [
    "### Numbers"
   ]
  },
  {
   "cell_type": "code",
   "execution_count": 30,
   "metadata": {},
   "outputs": [
    {
     "data": {
      "text/plain": [
       "(int, int, int, float, float, float)"
      ]
     },
     "execution_count": 30,
     "metadata": {},
     "output_type": "execute_result"
    }
   ],
   "source": [
    "type(1), type(-10), type(0), type(0.0), type(2.2), type(4E2) # 4*10 to the power of 2"
   ]
  },
  {
   "cell_type": "code",
   "execution_count": 31,
   "metadata": {},
   "outputs": [
    {
     "data": {
      "text/plain": [
       "(13, 7, 30, 1000, 3.3333333333333335, 3, 1)"
      ]
     },
     "execution_count": 31,
     "metadata": {},
     "output_type": "execute_result"
    }
   ],
   "source": [
    "# Arithmetic\n",
    "a1 = 10 + 3  # 13\n",
    "a2 = 10 - 3  # 7\n",
    "a3 = 10 * 3  # 30\n",
    "a4 = 10 ** 3 # 1000\n",
    "a5 = 10 / 3  # 3.3333333333333335\n",
    "a6 = 10 // 3 # 3 --> floor division - no decimals and returns an int\n",
    "a7 = 10 % 3  # 1 --> modulo operator - return the reminder. Good for deciding if number is even or odd\n",
    "a1, a2, a3, a4, a5, a6, a7"
   ]
  },
  {
   "cell_type": "code",
   "execution_count": 32,
   "metadata": {},
   "outputs": [
    {
     "data": {
      "text/plain": [
       "(25, 50, 5, 5.47, '0b1000000000', '0x200')"
      ]
     },
     "execution_count": 32,
     "metadata": {},
     "output_type": "execute_result"
    }
   ],
   "source": [
    "# Basic Functions\n",
    "p = pow(5, 2)  #25 --> like doing 5**2\n",
    "ab = abs(-50)       # 50\n",
    "r1 = round(5.46)    # 5\n",
    "r2 = round(5.468, 2)# 5.47 --> round to nth digit\n",
    "b = bin(512)       # '0b1000000000' -->  binary format\n",
    "h = hex(512)       # '0x200' --> hexadecimal format\n",
    "p, ab, r1, r2, b, h"
   ]
  },
  {
   "attachments": {},
   "cell_type": "markdown",
   "metadata": {},
   "source": [
    "### Strings\n",
    "Strings in python are stored as sequences of letters in memory"
   ]
  },
  {
   "cell_type": "code",
   "execution_count": 33,
   "metadata": {},
   "outputs": [
    {
     "data": {
      "text/plain": [
       "str"
      ]
     },
     "execution_count": 33,
     "metadata": {},
     "output_type": "execute_result"
    }
   ],
   "source": [
    "type('Hellloooooo') # str"
   ]
  },
  {
   "cell_type": "code",
   "execution_count": 34,
   "metadata": {},
   "outputs": [
    {
     "name": "stdout",
     "output_type": "stream",
     "text": [
      "\\t\n"
     ]
    }
   ],
   "source": [
    "print(\"\\\\t\")"
   ]
  },
  {
   "cell_type": "code",
   "execution_count": 35,
   "metadata": {},
   "outputs": [
    {
     "data": {
      "text/plain": [
       "'**********'"
      ]
     },
     "execution_count": 35,
     "metadata": {},
     "output_type": "execute_result"
    }
   ],
   "source": [
    "'I\\'m thirsty'\n",
    "\"I'm thirsty\"\n",
    "\"\\n\" # new line\n",
    "\"\\t\" # adds a tab\n",
    "\n",
    "'Hey you!'[4] # y\n",
    "name = 'Andrei Neagoie'\n",
    "name[4]     # e\n",
    "name[:]     # Andrei Neagoie\n",
    "name[1:]    # ndrei Neagoie\n",
    "name[:1]    # A\n",
    "name[-1]    # e\n",
    "name[::1]   # Andrei Neagoie\n",
    "name[::-1]  # eiogaeN ierdnA\n",
    "name[0:10:2]# Ade e\n",
    "# : is called slicing and has the format [ start : end : step ]\n",
    "\n",
    "'Hi there ' + 'Timmy' # 'Hi there Timmy' --> This is called string concatenation\n",
    "'*'*10 # **********"
   ]
  },
  {
   "cell_type": "code",
   "execution_count": 36,
   "metadata": {},
   "outputs": [
    {
     "name": "stdout",
     "output_type": "stream",
     "text": [
      "I am alone\n",
      "On an islan\n",
      "['but', 'life', 'is', 'good!']\n",
      "Help you\n",
      "True\n",
      "True\n",
      "STILL THERE?\n",
      "hello?!\n",
      "Ok, i am done.\n",
      "2\n",
      "2\n",
      "4\n",
      "-1\n",
      "ValueError was raised: substring not found\n"
     ]
    }
   ],
   "source": [
    "# Basic Functions\n",
    "len('turtle') # 6\n",
    "\n",
    "# Basic Methods\n",
    "print('  I am alone '.strip())               # 'I am alone' --> Strips all whitespace characters from both ends.\n",
    "print('On an island'.strip('d'))             # 'On an islan' --> # Strips all passed characters from both ends.\n",
    "print('but life is good!'.split())           # ['but', 'life', 'is', 'good!']\n",
    "print('Help me'.replace('me', 'you'))        # 'Help you' --> Replaces first with second param\n",
    "print('Need to make fire'.startswith('Need'))# True\n",
    "print('and cook rice'.endswith('rice'))      # True\n",
    "print('still there?'.upper())                # STILL THERE?\n",
    "print('HELLO?!'.lower())                     # hello?!\n",
    "print('ok, I am done.'.capitalize())         # 'Ok, I am done.'\n",
    "print('oh hi there'.count('e'))              # 2\n",
    "print('bye bye'.index('e'))                  # 2\n",
    "print('oh hi there'.find('i'))               # 4 --> returns the starting index position of the first occurrence\n",
    "print('oh hi there'.find('a'))               # -1\n",
    "try:\n",
    "    'oh hi there'.index('a')\n",
    "except Exception as err:\n",
    "    print(f\"{type(err).__name__} was raised: {err}\")    # Raises ValueError"
   ]
  },
  {
   "cell_type": "code",
   "execution_count": 37,
   "metadata": {},
   "outputs": [
    {
     "name": "stdout",
     "output_type": "stream",
     "text": [
      "Hello there Andrei and Sunny\n",
      "Hello there Andrei and Sunny\n",
      "Hello there Andrei and Sunny\n"
     ]
    }
   ],
   "source": [
    "# String Formatting\n",
    "name1 = 'Andrei'\n",
    "name2 = 'Sunny'\n",
    "print(f'Hello there {name1} and {name2}')       # Hello there Andrei and Sunny - Newer way to do things as of python 3.6\n",
    "print('Hello there {} and {}'.format(name1, name2))# Hello there Andrei and Sunny\n",
    "print('Hello there %s and %s' %(name1, name2))  # Hello there Andrei and Sunny --> you can also use %d, %f, %r for integers, floats, string representations of objects respectively"
   ]
  },
  {
   "cell_type": "code",
   "execution_count": 38,
   "metadata": {},
   "outputs": [
    {
     "name": "stdout",
     "output_type": "stream",
     "text": [
      "True\n"
     ]
    }
   ],
   "source": [
    "# Palindrome check\n",
    "word = 'reviver'\n",
    "p = bool(word.find(word[::-1]) + 1)\n",
    "print(p)"
   ]
  },
  {
   "attachments": {},
   "cell_type": "markdown",
   "metadata": {},
   "source": [
    "### Boolean\n",
    "True or False. Used in a lot of comparison and logical operations in Python"
   ]
  },
  {
   "cell_type": "code",
   "execution_count": 39,
   "metadata": {},
   "outputs": [
    {
     "name": "stdout",
     "output_type": "stream",
     "text": [
      "False\n",
      "False\n",
      "False\n",
      "False\n",
      "False\n",
      "False\n",
      "False\n",
      "False\n",
      "False\n",
      "False\n"
     ]
    }
   ],
   "source": [
    "bool(True)\n",
    "bool(False)\n",
    "\n",
    "# all of the below evaluate to False. Everything else will evaluate to True in Python.\n",
    "print(bool(None))\n",
    "print(bool(False))\n",
    "print(bool(0))\n",
    "print(bool(0.0))\n",
    "print(bool([]))\n",
    "print(bool({}))\n",
    "print(bool(()))\n",
    "print(bool(''))\n",
    "print(bool(range(0)))\n",
    "print(bool(set()))\n",
    "\n",
    "# See Logical Operators and Comparison Operators section for more on booleans."
   ]
  },
  {
   "attachments": {},
   "cell_type": "markdown",
   "metadata": {},
   "source": [
    "### Lists\n",
    "Unlike strings, lists are mutable sequences in python"
   ]
  },
  {
   "cell_type": "code",
   "execution_count": 40,
   "metadata": {},
   "outputs": [
    {
     "data": {
      "text/plain": [
       "[1, '3']"
      ]
     },
     "execution_count": 40,
     "metadata": {},
     "output_type": "execute_result"
    }
   ],
   "source": [
    "my_list = [1, 2, '3', True]# We assume this list won't mutate for each example below\n",
    "len(my_list)               # 4\n",
    "my_list.index('3')         # 2\n",
    "my_list.count(2)           # 1 --> count how many times 2 appears\n",
    "\n",
    "my_list[3]                 # True\n",
    "my_list[1:]                # [2, '3', True]\n",
    "my_list[:1]                # [1]\n",
    "my_list[-1]                # True\n",
    "my_list[::1]               # [1, 2, '3', True]\n",
    "my_list[::-1]              # [True, '3', 2, 1]\n",
    "my_list[0:3:2]             # [1, '3']\n",
    "\n",
    "# : is called slicing and has the format [ start : end : step ]"
   ]
  },
  {
   "cell_type": "code",
   "execution_count": 41,
   "metadata": {},
   "outputs": [
    {
     "data": {
      "text/plain": [
       "'Hello There'"
      ]
     },
     "execution_count": 41,
     "metadata": {},
     "output_type": "execute_result"
    }
   ],
   "source": [
    "# Add to List\n",
    "my_list * 2                # [1, 2, '3', True, 1, 2, '3', True]\n",
    "my_list + [100]            # [1, 2, '3', True, 100] --> doesn't mutate original list, creates new one\n",
    "my_list.append(100)        # None --> Mutates original list to [1, 2, '3', True, 100]          # Or: <list> += [<el>]\n",
    "my_list.extend([100, 200]) # None --> Mutates original list to [1, 2, '3', True, 100, 200]\n",
    "my_list.insert(2, '!!!')   # None -->  [1, 2, '!!!', '3', True] - Inserts item at index and moves the rest to the right.\n",
    "\n",
    "' '.join(['Hello','There'])# 'Hello There' --> Joins elements using string as separator."
   ]
  },
  {
   "cell_type": "code",
   "execution_count": 42,
   "metadata": {},
   "outputs": [],
   "source": [
    "# Copy a List\n",
    "basket = ['apples', 'pears', 'oranges']\n",
    "new_basket = basket.copy()\n",
    "new_basket2 = basket[:]"
   ]
  },
  {
   "cell_type": "code",
   "execution_count": 43,
   "metadata": {},
   "outputs": [],
   "source": [
    "# Remove from List\n",
    "[1,2,3].pop()    # 3 --> mutates original list, default index in the pop method is -1 (the last item)\n",
    "[1,2,3].pop(1)   # 2 --> mutates original list\n",
    "[1,2,3].remove(2)# None --> [1,3] Removes first occurrence of item or raises ValueError.\n",
    "[1,2,3].clear()  # None --> mutates original list and removes all items: []\n",
    "del [1,2,3][0]   # None --> removes item on index 0 or raises IndexError"
   ]
  },
  {
   "cell_type": "code",
   "execution_count": 44,
   "metadata": {},
   "outputs": [
    {
     "data": {
      "text/plain": [
       "[3, 5, 2, 1]"
      ]
     },
     "execution_count": 44,
     "metadata": {},
     "output_type": "execute_result"
    }
   ],
   "source": [
    "# Ordering\n",
    "[1,2,5,3].sort()         # None --> Mutates list to [1, 2, 3, 5]\n",
    "[1,2,5,3].sort(reverse=True) # None --> Mutates list to [5, 3, 2, 1]\n",
    "[1,2,5,3].reverse()      # None --> Mutates list to [3, 5, 2, 1]\n",
    "sorted([1,2,5,3])        # [1, 2, 3, 5] --> new list created\n",
    "my_list = [(4,1),(2,4),(2,5),(1,6),(8,9)]\n",
    "sorted(my_list,key=lambda x: int(x[0])) # [(1, 6), (2, 4), (2, 5), (4, 1), (8, 9)] --> sort the list by 1st (0th index) value of the tuple\n",
    "list(reversed([1,2,5,3]))# [3, 5, 2, 1] --> reversed() returns an iterator"
   ]
  },
  {
   "cell_type": "code",
   "execution_count": 45,
   "metadata": {},
   "outputs": [
    {
     "data": {
      "text/plain": [
       "15"
      ]
     },
     "execution_count": 45,
     "metadata": {},
     "output_type": "execute_result"
    }
   ],
   "source": [
    "# Useful operations\n",
    "1 in [1,2,5,3]  # True\n",
    "min([1,2,3,4,5])# 1\n",
    "max([1,2,3,4,5])# 5\n",
    "sum([1,2,3,4,5])# 15"
   ]
  },
  {
   "cell_type": "code",
   "execution_count": 46,
   "metadata": {},
   "outputs": [
    {
     "name": "stdout",
     "output_type": "stream",
     "text": [
      "63\n",
      "10\n"
     ]
    }
   ],
   "source": [
    "# Get First and Last element of a list\n",
    "mList = [63, 21, 30, 14, 35, 26, 77, 18, 49, 10]\n",
    "first, *x, last = mList\n",
    "print(first) #63\n",
    "print(last) #10"
   ]
  },
  {
   "cell_type": "code",
   "execution_count": 47,
   "metadata": {},
   "outputs": [
    {
     "name": "stdout",
     "output_type": "stream",
     "text": [
      "1\n",
      "2\n",
      "3\n",
      "4\n",
      "5\n",
      "6\n"
     ]
    },
    {
     "data": {
      "text/plain": [
       "[(1, 4), (2, 5), (3, 6)]"
      ]
     },
     "execution_count": 47,
     "metadata": {},
     "output_type": "execute_result"
    }
   ],
   "source": [
    "# Matrix\n",
    "matrix = [[1,2,3], [4,5,6], [7,8,9]]\n",
    "matrix[2][0] # 7 --> Grab first first of the third item in the matrix object\n",
    "\n",
    "# Looping through a matrix by rows:\n",
    "mx = [[1,2,3],[4,5,6]]\n",
    "for row in range(len(mx)):\n",
    "\tfor col in range(len(mx[0])):\n",
    "\t\tprint(mx[row][col]) # 1 2 3 4 5 6\n",
    "    \n",
    "# Transform into a list:\n",
    "[mx[row][col] for row in range(len(mx)) for col in range(len(mx[0]))] # [1,2,3,4,5,6]\n",
    "\n",
    "# Combine columns with zip and *:\n",
    "[x for x in zip(*mx)] # [(1, 3), (2, 4)]\n"
   ]
  },
  {
   "cell_type": "code",
   "execution_count": 48,
   "metadata": {},
   "outputs": [],
   "source": [
    "# List Comprehensions\n",
    "# new_list[<action> for <item> in <iterator> if <some condition>]\n",
    "a = [i for i in 'hello']                  # ['h', 'e', 'l', 'l', '0']\n",
    "b = [i*2 for i in [1,2,3]]                # [2, 4, 6]\n",
    "c = [i for i in range(0,10) if i % 2 == 0]# [0, 2, 4, 6, 8]"
   ]
  },
  {
   "cell_type": "code",
   "execution_count": 49,
   "metadata": {},
   "outputs": [],
   "source": [
    "# Advanced Functions\n",
    "list_of_chars = list('Helloooo')                                   # ['H', 'e', 'l', 'l', 'o', 'o', 'o', 'o']\n",
    "sum_of_elements = sum([1,2,3,4,5])                                 # 15\n",
    "element_sum = [sum(pair) for pair in zip([1,2,3],[4,5,6])]         # [5, 7, 9]\n",
    "sorted_by_second = sorted(['hi','you','man'], key=lambda el: el[1])# ['man', 'hi', 'you']\n",
    "sorted_by_key = sorted([\n",
    "                       {'name': 'Bina', 'age': 30},\n",
    "                       {'name':'Andy', 'age': 18},\n",
    "                       {'name': 'Zoey', 'age': 55}],\n",
    "                       key=lambda el: (el['name']))# [{'name': 'Andy', 'age': 18}, {'name': 'Bina', 'age': 30}, {'name': 'Zoey', 'age': 55}]"
   ]
  },
  {
   "cell_type": "code",
   "execution_count": 50,
   "metadata": {},
   "outputs": [
    {
     "data": {
      "text/plain": [
       "['samlpeText', 'samlpeText']"
      ]
     },
     "execution_count": 50,
     "metadata": {},
     "output_type": "execute_result"
    }
   ],
   "source": [
    "# Read line of a file into a list\n",
    "with open(\"myfile.txt\") as f:\n",
    "  lines = [line.strip() for line in f]\n",
    "lines"
   ]
  },
  {
   "attachments": {},
   "cell_type": "markdown",
   "metadata": {},
   "source": [
    "### Dictionaries\n",
    "Also known as mappings or hash tables. They are key value pairs that are guaranteed to retain order of insertion starting from Python 3.7"
   ]
  },
  {
   "cell_type": "code",
   "execution_count": 51,
   "metadata": {},
   "outputs": [],
   "source": [
    "my_dict = {'name': 'Andrei Neagoie', 'age': 30, 'magic_power': False}\n",
    "my_dict['name']                      # Andrei Neagoie\n",
    "len(my_dict)                         # 3\n",
    "list(my_dict.keys())                 # ['name', 'age', 'magic_power']\n",
    "list(my_dict.values())               # ['Andrei Neagoie', 30, False]\n",
    "list(my_dict.items())                # [('name', 'Andrei Neagoie'), ('age', 30), ('magic_power', False)]\n",
    "my_dict['favourite_snack'] = 'Grapes'# {'name': 'Andrei Neagoie', 'age': 30, 'magic_power': False, 'favourite_snack': 'Grapes'}\n",
    "my_dict.get('age')                   # 30 --> Returns None if key does not exist.\n",
    "my_dict.get('ages', 0 )              # 0 --> Returns default (2nd param) if key is not found\n",
    "\n",
    "#Remove key\n",
    "del my_dict['name']\n",
    "my_dict.pop('name', None)"
   ]
  },
  {
   "cell_type": "code",
   "execution_count": 52,
   "metadata": {},
   "outputs": [
    {
     "data": {
      "text/plain": [
       "{'age': 30, 'magic_power': False, 'cool': True}"
      ]
     },
     "execution_count": 52,
     "metadata": {},
     "output_type": "execute_result"
    }
   ],
   "source": [
    "my_dict.update({'cool': True})                                         # {'name': 'Andrei Neagoie', 'age': 30, 'magic_power': False, 'favourite_snack': 'Grapes', 'cool': True}\n",
    "{**my_dict, **{'cool': True} }                                         # {'name': 'Andrei Neagoie', 'age': 30, 'magic_power': False, 'favourite_snack': 'Grapes', 'cool': True}\n",
    "new_dict = dict([['name','Andrei'],['age',32],['magic_power',False]])  # Creates a dict from collection of key-value pairs.\n",
    "new_dict = dict(zip(['name','age','magic_power'],['Andrei',32, False]))# Creates a dict from two collections.\n",
    "new_dict = my_dict.pop('favourite_snack')                              # Removes item from dictionary.\n",
    "my_dict"
   ]
  },
  {
   "cell_type": "code",
   "execution_count": 53,
   "metadata": {},
   "outputs": [
    {
     "data": {
      "text/plain": [
       "{'name': 'Andrei Neagoie', 'age': 30}"
      ]
     },
     "execution_count": 53,
     "metadata": {},
     "output_type": "execute_result"
    }
   ],
   "source": [
    "# Dictionary Comprehension\n",
    "my_dict = {'name': 'Andrei Neagoie', 'age': 30, 'magic_power': False}               # Andrei Neagoie\n",
    "{key: value for key, value in my_dict.items() if key == 'age' or key == 'name'} # {'name': 'Andrei', 'age': 32} --> Filter dict by keys"
   ]
  },
  {
   "attachments": {},
   "cell_type": "markdown",
   "metadata": {},
   "source": [
    "### Tuples\n",
    "Like lists, but they are used for immutable thing (that don't change)"
   ]
  },
  {
   "cell_type": "code",
   "execution_count": 54,
   "metadata": {},
   "outputs": [
    {
     "data": {
      "text/plain": [
       "('apple', 'grapes', 'mango', 'grapes')"
      ]
     },
     "execution_count": 54,
     "metadata": {},
     "output_type": "execute_result"
    }
   ],
   "source": [
    "my_tuple = ('apple','grapes','mango', 'grapes')\n",
    "apple, grapes, mango, grapes = my_tuple# Tuple unpacking\n",
    "len(my_tuple)                          # 4\n",
    "my_tuple[2]                            # mango\n",
    "my_tuple[-1]                           # 'grapes'\n",
    "my_tuple"
   ]
  },
  {
   "cell_type": "code",
   "execution_count": 55,
   "metadata": {},
   "outputs": [
    {
     "name": "stdout",
     "output_type": "stream",
     "text": [
      "TypeError was raised: 'tuple' object does not support item assignment\n",
      "AttributeError was raised: 'tuple' object has no attribute 'append'\n"
     ]
    }
   ],
   "source": [
    "# Immutability\n",
    "try:\n",
    "    my_tuple[1] = 'donuts'  # TypeError\n",
    "except Exception as err:\n",
    "    print(str(type(err).__name__) + \" was raised: \" + str(err))\n",
    "try:\n",
    "    my_tuple.append('candy')# AttributeError\n",
    "except Exception as err:\n",
    "    print(f\"{type(err).__name__} was raised: {err}\")"
   ]
  },
  {
   "cell_type": "code",
   "execution_count": 56,
   "metadata": {},
   "outputs": [
    {
     "data": {
      "text/plain": [
       "(1, 2)"
      ]
     },
     "execution_count": 56,
     "metadata": {},
     "output_type": "execute_result"
    }
   ],
   "source": [
    "# Methods\n",
    "my_tuple.index('grapes') , my_tuple.count('grapes') "
   ]
  },
  {
   "cell_type": "code",
   "execution_count": 57,
   "metadata": {},
   "outputs": [
    {
     "data": {
      "text/plain": [
       "[(1, 4), (2, 5), (3, 6)]"
      ]
     },
     "execution_count": 57,
     "metadata": {},
     "output_type": "execute_result"
    }
   ],
   "source": [
    "# Zip\n",
    "list(zip([1,2,3], [4,5,6])) # [(1, 4), (2, 5), (3, 6)]"
   ]
  },
  {
   "cell_type": "code",
   "execution_count": 58,
   "metadata": {},
   "outputs": [
    {
     "data": {
      "text/plain": [
       "[(1, 3, 5, 7), (2, 4, 6, 8)]"
      ]
     },
     "execution_count": 58,
     "metadata": {},
     "output_type": "execute_result"
    }
   ],
   "source": [
    "# unzip\n",
    "z = [(1, 2), (3, 4), (5, 6), (7, 8)] # Some output of zip() function\n",
    "unzip = lambda z: list(zip(*z))\n",
    "unzip(z)"
   ]
  },
  {
   "attachments": {},
   "cell_type": "markdown",
   "metadata": {},
   "source": [
    "### Sets\n",
    "Unorderd collection of unique elements."
   ]
  },
  {
   "cell_type": "code",
   "execution_count": 59,
   "metadata": {},
   "outputs": [
    {
     "data": {
      "text/plain": [
       "{1, 100}"
      ]
     },
     "execution_count": 59,
     "metadata": {},
     "output_type": "execute_result"
    }
   ],
   "source": [
    "my_set = set()\n",
    "my_set.add(1)  # {1}\n",
    "my_set.add(100)# {1, 100}\n",
    "my_set.add(100)# {1, 100} --> no duplicates!\n",
    "my_set"
   ]
  },
  {
   "cell_type": "code",
   "execution_count": 60,
   "metadata": {},
   "outputs": [
    {
     "name": "stdout",
     "output_type": "stream",
     "text": [
      "{1, 2, 3}\n"
     ]
    }
   ],
   "source": [
    "new_list = [1,2,3,3,3,4,4,5,6,1]\n",
    "set(new_list)           # {1, 2, 3, 4, 5, 6}\n",
    "try:\n",
    "    my_set.remove(100)      # {1} --> Raises KeyError if element not found\n",
    "except Exception as err:\n",
    "    print(f\"{type(err).__name__} was raised: {err}\")\n",
    "my_set.discard(100)     # {1} --> Doesn't raise an error if element not found\n",
    "my_set.clear()          # {}\n",
    "new_set = {1,2,3}.copy()# {1,2,3}\n",
    "print(new_set)"
   ]
  },
  {
   "cell_type": "code",
   "execution_count": 61,
   "metadata": {},
   "outputs": [
    {
     "data": {
      "text/plain": [
       "False"
      ]
     },
     "execution_count": 61,
     "metadata": {},
     "output_type": "execute_result"
    }
   ],
   "source": [
    "set1 = {1,2,3}\n",
    "set2 = {3,4,5}\n",
    "set3 = set1.union(set2)               # {1,2,3,4,5}\n",
    "set4 = set1.intersection(set2)        # {3}\n",
    "set5 = set1.difference(set2)          # {1, 2}\n",
    "set6 = set1.symmetric_difference(set2)# {1, 2, 4, 5}\n",
    "set1.issubset(set2)                   # False\n",
    "set1.issuperset(set2)                 # False\n",
    "set1.isdisjoint(set2)                 # False --> return True if two sets have a null intersection."
   ]
  },
  {
   "cell_type": "code",
   "execution_count": 62,
   "metadata": {},
   "outputs": [],
   "source": [
    "# Frozenset\n",
    "# hashable --> it can be used as a key in a dictionary or as an element in a set.\n",
    "# <frozenset> = frozenset(<collection>)"
   ]
  },
  {
   "attachments": {},
   "cell_type": "markdown",
   "metadata": {},
   "source": [
    "### None\n",
    "None is used for absence of a value and can be used to show nothing has been assigned to an object"
   ]
  },
  {
   "cell_type": "code",
   "execution_count": 63,
   "metadata": {},
   "outputs": [
    {
     "data": {
      "text/plain": [
       "(None, NoneType)"
      ]
     },
     "execution_count": 63,
     "metadata": {},
     "output_type": "execute_result"
    }
   ],
   "source": [
    "type(None) # NoneType\n",
    "a = None\n",
    "a, type(a)"
   ]
  },
  {
   "attachments": {},
   "cell_type": "markdown",
   "metadata": {},
   "source": [
    "## Python Basics"
   ]
  },
  {
   "attachments": {},
   "cell_type": "markdown",
   "metadata": {},
   "source": [
    "### Comparison Operators"
   ]
  },
  {
   "cell_type": "code",
   "execution_count": 64,
   "metadata": {},
   "outputs": [
    {
     "data": {
      "text/plain": [
       "'\\n==                   # equal values\\n!=                   # not equal\\n>                    # left operand is greater than right operand\\n<                    # left operand is less than right operand\\n>=                   # left operand is greater than or equal to right operand\\n<=                   # left operand is less than or equal to right operand\\n<element> is <element> # check if two operands refer to same object in memory\\n'"
      ]
     },
     "execution_count": 64,
     "metadata": {},
     "output_type": "execute_result"
    }
   ],
   "source": [
    "'''\n",
    "==                   # equal values\n",
    "!=                   # not equal\n",
    ">                    # left operand is greater than right operand\n",
    "<                    # left operand is less than right operand\n",
    ">=                   # left operand is greater than or equal to right operand\n",
    "<=                   # left operand is less than or equal to right operand\n",
    "<element> is <element> # check if two operands refer to same object in memory\n",
    "'''"
   ]
  },
  {
   "attachments": {},
   "cell_type": "markdown",
   "metadata": {},
   "source": [
    "### Logical Operators"
   ]
  },
  {
   "cell_type": "code",
   "execution_count": 65,
   "metadata": {},
   "outputs": [
    {
     "data": {
      "text/plain": [
       "'\\n1 < 2 and 4 > 1 # True\\n1 > 3 or 4 > 1  # True\\n1 is not 4      # True\\nnot True        # False\\n1 not in [2,3,4]# True\\n\\nif <condition that evaluates to boolean>:\\n# perform action1\\nelif <condition that evaluates to boolean>:\\n# perform action2\\nelse:\\n# perform action3\\n'"
      ]
     },
     "execution_count": 65,
     "metadata": {},
     "output_type": "execute_result"
    }
   ],
   "source": [
    "'''\n",
    "1 < 2 and 4 > 1 # True\n",
    "1 > 3 or 4 > 1  # True\n",
    "1 is not 4      # True\n",
    "not True        # False\n",
    "1 not in [2,3,4]# True\n",
    "\n",
    "if <condition that evaluates to boolean>:\n",
    "# perform action1\n",
    "elif <condition that evaluates to boolean>:\n",
    "# perform action2\n",
    "else:\n",
    "# perform action3\n",
    "'''"
   ]
  },
  {
   "attachments": {},
   "cell_type": "markdown",
   "metadata": {},
   "source": [
    "### Loops"
   ]
  },
  {
   "cell_type": "code",
   "execution_count": 66,
   "metadata": {},
   "outputs": [
    {
     "name": "stdout",
     "output_type": "stream",
     "text": [
      "1 2 3  \n",
      "1 2 3  \n",
      "(1, 2) (3, 4) (5, 6)  \n",
      "1 2 3  \n",
      "0  \n",
      "1 1  \n",
      "2 2  \n",
      "3 a  \n",
      "1 b  \n",
      "2 c  \n",
      "3 "
     ]
    }
   ],
   "source": [
    "my_list = [1,2,3]\n",
    "my_tuple = (1,2,3)\n",
    "my_list2 = [(1,2), (3,4), (5,6)]\n",
    "my_dict = {'a': 1, 'b': 2, 'c': 3}\n",
    "\n",
    "for num in my_list:\n",
    "    print(num, end=\" \") # 1, 2, 3\n",
    "print(\" \")\n",
    "\n",
    "for num in my_tuple:\n",
    "    print(num, end=\" \") # 1, 2, 3\n",
    "print(\" \")\n",
    "\n",
    "for num in my_list2:\n",
    "    print(num, end=\" \") # (1,2), (3,4), (5,6)\n",
    "print(\" \")\n",
    "\n",
    "for num in '123':\n",
    "    print(num, end=\" \") # 1, 2, 3\n",
    "print(\" \")\n",
    "\n",
    "for idx,value in enumerate(my_list):\n",
    "    print(idx, end=\" \") \n",
    "    print(\" \")# get the index of the item\n",
    "    print(value, end=\" \") # get the value\n",
    "\n",
    "for k,v in my_dict.items(): # Dictionary Unpacking\n",
    "    print(k, end=\" \") # 'a', 'b', 'c'\n",
    "    print(\" \")\n",
    "    print(v, end=\" \") # 1, 2, 3\n",
    "\n",
    "# while <condition that evaluates to boolean>:\n",
    "#   # action\n",
    "#   if <condition that evaluates to boolean>:\n",
    "#     break # break out of while loop\n",
    "#   if <condition that evaluates to boolean>:\n",
    "#     continue # continue to the next line in the block"
   ]
  },
  {
   "cell_type": "code",
   "execution_count": 67,
   "metadata": {},
   "outputs": [
    {
     "name": "stdout",
     "output_type": "stream",
     "text": [
      "hi\n",
      "run\n",
      "quit\n"
     ]
    }
   ],
   "source": [
    "# waiting until user quits\n",
    "msg = ''\n",
    "while msg != 'quit':\n",
    "    msg = input(\"What should I do?\")\n",
    "    print(msg)"
   ]
  },
  {
   "attachments": {},
   "cell_type": "markdown",
   "metadata": {},
   "source": [
    "### Range"
   ]
  },
  {
   "cell_type": "code",
   "execution_count": 68,
   "metadata": {},
   "outputs": [
    {
     "data": {
      "text/plain": [
       "[0, 2, 4, 6, 8]"
      ]
     },
     "execution_count": 68,
     "metadata": {},
     "output_type": "execute_result"
    }
   ],
   "source": [
    "range(10)          # range(0, 10) --> 0 to 9\n",
    "range(1,10)        # range(1, 10)\n",
    "list(range(0,10,2))# [0, 2, 4, 6, 8]"
   ]
  },
  {
   "attachments": {},
   "cell_type": "markdown",
   "metadata": {},
   "source": [
    "### Enumerate"
   ]
  },
  {
   "cell_type": "code",
   "execution_count": 69,
   "metadata": {},
   "outputs": [
    {
     "name": "stdout",
     "output_type": "stream",
     "text": [
      "0, h\n",
      "1, e\n",
      "2, l\n",
      "3, l\n",
      "4, o\n",
      "5, o\n"
     ]
    }
   ],
   "source": [
    "for i, el in enumerate('helloo'):\n",
    "  print(f'{i}, {el}')"
   ]
  },
  {
   "attachments": {},
   "cell_type": "markdown",
   "metadata": {},
   "source": [
    "### Counter"
   ]
  },
  {
   "cell_type": "code",
   "execution_count": 70,
   "metadata": {},
   "outputs": [
    {
     "data": {
      "text/plain": [
       "('blue', 3)"
      ]
     },
     "execution_count": 70,
     "metadata": {},
     "output_type": "execute_result"
    }
   ],
   "source": [
    "from collections import Counter\n",
    "colors = ['red', 'blue', 'yellow', 'blue', 'red', 'blue']\n",
    "counter = Counter(colors)# Counter({'blue': 3, 'red': 2, 'yellow': 1})\n",
    "counter.most_common()[0] # ('blue', 3)"
   ]
  },
  {
   "attachments": {},
   "cell_type": "markdown",
   "metadata": {},
   "source": [
    "### Named Tuple\n",
    "- Tuple is an immutable and hashable list.\n",
    "- Named tuple is its subclass with named elements."
   ]
  },
  {
   "cell_type": "code",
   "execution_count": 71,
   "metadata": {},
   "outputs": [
    {
     "data": {
      "text/plain": [
       "('x', 'y')"
      ]
     },
     "execution_count": 71,
     "metadata": {},
     "output_type": "execute_result"
    }
   ],
   "source": [
    "from collections import namedtuple\n",
    "Point = namedtuple('Point', 'x y')\n",
    "p = Point(1, y=2)# Point(x=1, y=2)\n",
    "p[0]             # 1\n",
    "p.x              # 1\n",
    "getattr(p, 'y')  # 2\n",
    "p._fields        # Or: Point._fields #('x', 'y')                           "
   ]
  },
  {
   "cell_type": "code",
   "execution_count": 72,
   "metadata": {},
   "outputs": [
    {
     "data": {
      "text/plain": [
       "'187'"
      ]
     },
     "execution_count": 72,
     "metadata": {},
     "output_type": "execute_result"
    }
   ],
   "source": [
    "from collections import namedtuple\n",
    "Person = namedtuple('Person', 'name height')\n",
    "person = Person('Jean-Luc', 187)\n",
    "f'{person.height}'           # '187'\n",
    "'{p.height}'.format(p=person)# '187'"
   ]
  },
  {
   "attachments": {},
   "cell_type": "markdown",
   "metadata": {},
   "source": [
    "### OrderedDict\n",
    "- Maintains order of insertion"
   ]
  },
  {
   "cell_type": "code",
   "execution_count": 73,
   "metadata": {},
   "outputs": [
    {
     "name": "stdout",
     "output_type": "stream",
     "text": [
      "Tim-->\n",
      "\tpython\n",
      "\tjavascript\n",
      "Sarah-->\n",
      "\tC++\n",
      "Bia-->\n",
      "\tRuby\n",
      "\tPython\n",
      "\tGo\n"
     ]
    }
   ],
   "source": [
    "from collections import OrderedDict\n",
    "# Store each person's languages, keeping # track of who responded first. \n",
    "programmers = OrderedDict()\n",
    "programmers['Tim'] = ['python', 'javascript']\n",
    "programmers['Sarah'] = ['C++']\n",
    "programmers['Bia'] = ['Ruby', 'Python', 'Go']\n",
    "\n",
    "for name, langs in programmers.items():\n",
    "    print(name + '-->')\n",
    "    for lang in langs:\n",
    "      print('\\t' + lang)\n"
   ]
  },
  {
   "attachments": {},
   "cell_type": "markdown",
   "metadata": {},
   "source": [
    "## Functions"
   ]
  },
  {
   "attachments": {},
   "cell_type": "markdown",
   "metadata": {},
   "source": [
    "### Functions\n",
    "\\*args and \\*\\*kwargs <br>\n",
    "Splat (*) expands a collection into positional arguments, while splatty-splat (**) expands a dictionary into keyword arguments."
   ]
  },
  {
   "cell_type": "code",
   "execution_count": 74,
   "metadata": {},
   "outputs": [
    {
     "name": "stdout",
     "output_type": "stream",
     "text": [
      "3\n",
      "6\n",
      "8\n"
     ]
    }
   ],
   "source": [
    "def add(x=0, y=0, z=0):\n",
    "    return x+y+z\n",
    "\n",
    "args = (1, 2)\n",
    "print(add(*args))\n",
    "args = (1, 2, 3) \n",
    "print(add(*args))\n",
    "kwargs = {'x': 3, 'z': 5}\n",
    "print(add(**kwargs))"
   ]
  },
  {
   "attachments": {},
   "cell_type": "markdown",
   "metadata": {},
   "source": [
    "\\*  Inside Function Definition\n",
    "\n",
    "Splat combines zero or more positional arguments into a tuple, while splatty-splat combines zero or more keyword arguments into a dictionary."
   ]
  },
  {
   "cell_type": "code",
   "execution_count": 75,
   "metadata": {},
   "outputs": [
    {
     "name": "stdout",
     "output_type": "stream",
     "text": [
      "1 2 3 "
     ]
    }
   ],
   "source": [
    "def prnt(*tup):\n",
    "    for element in tup:\n",
    "        print(element, end=\" \")\n",
    "\n",
    "prnt(1, 2, 3)"
   ]
  },
  {
   "cell_type": "code",
   "execution_count": 76,
   "metadata": {},
   "outputs": [
    {
     "name": "stdout",
     "output_type": "stream",
     "text": [
      "dict_keys(['x', 'y', 'z'])\n",
      "dict_values([1, 2, 3])\n",
      "dict_items([('x', 1), ('y', 2), ('z', 3)])\n",
      "x -> 1\n",
      "y -> 2\n",
      "z -> 3\n"
     ]
    }
   ],
   "source": [
    "def prnt(**kwarg):\n",
    "    print(kwarg.keys())\n",
    "    print(kwarg.values())\n",
    "    print(kwarg.items())\n",
    "\n",
    "    for key in kwarg:\n",
    "        print(key, '->', kwarg[key])\n",
    "\n",
    "prnt(x=1, y=2, z=3)"
   ]
  },
  {
   "cell_type": "code",
   "execution_count": 77,
   "metadata": {},
   "outputs": [],
   "source": [
    "# def f(*args):                  # f(1, 2, 3)\n",
    "# def f(x, *args):               # f(1, 2, 3)\n",
    "# def f(*args, z):               # f(1, 2, z=3)\n",
    "# def f(x, *args, z):            # f(1, 2, z=3)\n",
    "\n",
    "# def f(**kwargs):               # f(x=1, y=2, z=3)\n",
    "# def f(x, **kwargs):            # f(x=1, y=2, z=3) | f(1, y=2, z=3)\n",
    "\n",
    "# def f(*args, **kwargs):        # f(x=1, y=2, z=3) | f(1, y=2, z=3) | f(1, 2, z=3) | f(1, 2, 3)\n",
    "# def f(x, *args, **kwargs):     # f(x=1, y=2, z=3) | f(1, y=2, z=3) | f(1, 2, z=3) | f(1, 2, 3)\n",
    "# def f(*args, y, **kwargs):     # f(x=1, y=2, z=3) | f(1, y=2, z=3)\n",
    "# def f(x, *args, z, **kwargs):  # f(x=1, y=2, z=3) | f(1, y=2, z=3) | f(1, 2, z=3)"
   ]
  },
  {
   "cell_type": "code",
   "execution_count": 78,
   "metadata": {},
   "outputs": [
    {
     "data": {
      "text/plain": [
       "{'a': 1, 'b': 2, 'c': 3}"
      ]
     },
     "execution_count": 78,
     "metadata": {},
     "output_type": "execute_result"
    }
   ],
   "source": [
    "[*[1,2,3], *[4]]                # [1, 2, 3, 4]\n",
    "{*[1,2,3], *[4]}                # {1, 2, 3, 4}\n",
    "(*[1,2,3], *[4])                # (1, 2, 3, 4)\n",
    "{**{'a': 1, 'b': 2}, **{'c': 3}}# {'a': 1, 'b': 2, 'c': 3}"
   ]
  },
  {
   "cell_type": "code",
   "execution_count": 79,
   "metadata": {},
   "outputs": [
    {
     "data": {
      "text/plain": [
       "(1, [2, 3, 4], 5)"
      ]
     },
     "execution_count": 79,
     "metadata": {},
     "output_type": "execute_result"
    }
   ],
   "source": [
    "head, *body, tail = [1,2,3,4,5]\n",
    "head, body, tail"
   ]
  },
  {
   "attachments": {},
   "cell_type": "markdown",
   "metadata": {},
   "source": [
    "### Lambda"
   ]
  },
  {
   "cell_type": "code",
   "execution_count": 80,
   "metadata": {},
   "outputs": [],
   "source": [
    "# lambda: <return_value>\n",
    "# lambda <argument1>, <argument2>: <return_value>"
   ]
  },
  {
   "cell_type": "code",
   "execution_count": 81,
   "metadata": {},
   "outputs": [
    {
     "name": "stdout",
     "output_type": "stream",
     "text": [
      "6\n"
     ]
    }
   ],
   "source": [
    "# Factorial\n",
    "from functools import reduce\n",
    "\n",
    "n = 3\n",
    "factorial = reduce(lambda x, y: x*y, range(1, n+1))\n",
    "print(factorial) #6"
   ]
  },
  {
   "cell_type": "code",
   "execution_count": 82,
   "metadata": {},
   "outputs": [
    {
     "name": "stdout",
     "output_type": "stream",
     "text": [
      "55\n"
     ]
    }
   ],
   "source": [
    "# Fibonacci\n",
    "fib = lambda n : n if n <= 1 else fib(n-1) + fib(n-2)\n",
    "result = fib(10)\n",
    "print(result) #55"
   ]
  },
  {
   "attachments": {},
   "cell_type": "markdown",
   "metadata": {},
   "source": [
    "### Comprehensions"
   ]
  },
  {
   "cell_type": "code",
   "execution_count": 83,
   "metadata": {},
   "outputs": [],
   "source": [
    "# <list> = [i+1 for i in range(10)]         # [1, 2, ..., 10]\n",
    "# <set>  = {i for i in range(10) if i > 5}  # {6, 7, 8, 9}\n",
    "# <iter> = (i+5 for i in range(10))         # (5, 6, ..., 14)\n",
    "# <dict> = {i: i*2 for i in range(10)}      # {0: 0, 1: 2, ..., 9: 18}"
   ]
  },
  {
   "cell_type": "code",
   "execution_count": 84,
   "metadata": {},
   "outputs": [],
   "source": [
    "output = [i+j for i in range(3) for j in range(3)] # [0, 1, 2, 1, 2, 3, 2, 3, 4]\n",
    "\n",
    "# Is the same as:\n",
    "output = []\n",
    "for i in range(3):\n",
    "  for j in range(3):\n",
    "    output.append(i+j)"
   ]
  },
  {
   "attachments": {},
   "cell_type": "markdown",
   "metadata": {},
   "source": [
    "### Ternary Condition"
   ]
  },
  {
   "cell_type": "code",
   "execution_count": 85,
   "metadata": {},
   "outputs": [
    {
     "data": {
      "text/plain": [
       "['zero', 1, 'zero', 3]"
      ]
     },
     "execution_count": 85,
     "metadata": {},
     "output_type": "execute_result"
    }
   ],
   "source": [
    "# <expression_if_true> if <condition> else <expression_if_false>\n",
    "\n",
    "[a if a else 'zero' for a in [0, 1, 0, 3]] # ['zero', 1, 'zero', 3]"
   ]
  },
  {
   "attachments": {},
   "cell_type": "markdown",
   "metadata": {},
   "source": [
    "### Map Filter Reduce"
   ]
  },
  {
   "cell_type": "code",
   "execution_count": 86,
   "metadata": {},
   "outputs": [
    {
     "data": {
      "text/plain": [
       "45"
      ]
     },
     "execution_count": 86,
     "metadata": {},
     "output_type": "execute_result"
    }
   ],
   "source": [
    "from functools import reduce\n",
    "list(map(lambda x: x + 1, range(10)))            # [1, 2, 3, 4, 5, 6, 7, 8, 9,10]\n",
    "list(filter(lambda x: x > 5, range(10)))         # (6, 7, 8, 9)\n",
    "reduce(lambda acc, x: acc + x, range(10))        # 45"
   ]
  },
  {
   "attachments": {},
   "cell_type": "markdown",
   "metadata": {},
   "source": [
    "### Any All"
   ]
  },
  {
   "cell_type": "code",
   "execution_count": 87,
   "metadata": {},
   "outputs": [
    {
     "data": {
      "text/plain": [
       "True"
      ]
     },
     "execution_count": 87,
     "metadata": {},
     "output_type": "execute_result"
    }
   ],
   "source": [
    "any([False, True, False])# True if at least one item in collection is truthy, False if empty.\n",
    "all([True,1,3,True])     # True if all items in collection are true"
   ]
  },
  {
   "attachments": {},
   "cell_type": "markdown",
   "metadata": {},
   "source": [
    "### Closures\n",
    "We have a closure in Python when:\n",
    "\n",
    "- A nested function references a value of its enclosing function and then\n",
    "- the enclosing function returns the nested function."
   ]
  },
  {
   "cell_type": "code",
   "execution_count": 88,
   "metadata": {},
   "outputs": [],
   "source": [
    "def get_multiplier(a):\n",
    "    def out(b):\n",
    "        return a * b\n",
    "    return out"
   ]
  },
  {
   "cell_type": "code",
   "execution_count": 89,
   "metadata": {},
   "outputs": [
    {
     "data": {
      "text/plain": [
       "30"
      ]
     },
     "execution_count": 89,
     "metadata": {},
     "output_type": "execute_result"
    }
   ],
   "source": [
    "multiply_by_3 = get_multiplier(3)\n",
    "multiply_by_3(10)"
   ]
  },
  {
   "attachments": {},
   "cell_type": "markdown",
   "metadata": {},
   "source": [
    "- If multiple nested functions within enclosing function reference the same value, that value gets shared.\n",
    "- To dynamically access function's first free variable use '&lt;function&gt;.\\__closure__[0].cell_contents'."
   ]
  },
  {
   "attachments": {},
   "cell_type": "markdown",
   "metadata": {},
   "source": [
    "### Scope\n",
    "If variable is being assigned to anywhere in the scope, it is regarded as a local variable, unless it is declared as a 'global' or a 'nonlocal'."
   ]
  },
  {
   "cell_type": "code",
   "execution_count": 90,
   "metadata": {},
   "outputs": [],
   "source": [
    "def get_counter():\n",
    "    i = 0\n",
    "    def out():\n",
    "        nonlocal i\n",
    "        i += 1\n",
    "        return i\n",
    "    return out"
   ]
  },
  {
   "cell_type": "code",
   "execution_count": 91,
   "metadata": {},
   "outputs": [
    {
     "data": {
      "text/plain": [
       "(1, 2, 3)"
      ]
     },
     "execution_count": 91,
     "metadata": {},
     "output_type": "execute_result"
    }
   ],
   "source": [
    "counter = get_counter()\n",
    "counter(), counter(), counter()\n",
    "(1, 2, 3)"
   ]
  },
  {
   "attachments": {},
   "cell_type": "markdown",
   "metadata": {},
   "source": [
    "## Advanced Python"
   ]
  },
  {
   "attachments": {},
   "cell_type": "markdown",
   "metadata": {},
   "source": [
    "### Modules"
   ]
  },
  {
   "cell_type": "code",
   "execution_count": 92,
   "metadata": {},
   "outputs": [],
   "source": [
    "if __name__ == '__main__': # Runs main() if file wasn't imported.\n",
    "    pass"
   ]
  },
  {
   "cell_type": "code",
   "execution_count": 93,
   "metadata": {},
   "outputs": [],
   "source": [
    "# import <module_name>\n",
    "# from <module_name> import <function_name>\n",
    "# import <module_name> as m\n",
    "# from <module_name> import <function_name> as m_function\n",
    "# from <module_name> import *"
   ]
  },
  {
   "attachments": {},
   "cell_type": "markdown",
   "metadata": {},
   "source": [
    "### Iterators\n",
    "In this cheatsheet '&lt;collection&gt;' can also mean an iterator."
   ]
  },
  {
   "cell_type": "code",
   "execution_count": 94,
   "metadata": {},
   "outputs": [],
   "source": [
    "# <iter> = iter(<collection>)\n",
    "# <iter> = iter(<function>, to_exclusive)     # Sequence of return values until 'to_exclusive'.\n",
    "# <el>   = next(<iter> [, default])           # Raises StopIteration or returns 'default' on end."
   ]
  },
  {
   "attachments": {},
   "cell_type": "markdown",
   "metadata": {},
   "source": [
    "### Generators\n",
    "Convenient way to implement the iterator protocol."
   ]
  },
  {
   "cell_type": "code",
   "execution_count": 95,
   "metadata": {},
   "outputs": [],
   "source": [
    "def count(start, step):\n",
    "    while True:\n",
    "        yield start\n",
    "        start += step"
   ]
  },
  {
   "cell_type": "code",
   "execution_count": 96,
   "metadata": {},
   "outputs": [
    {
     "data": {
      "text/plain": [
       "(10, 12, 14)"
      ]
     },
     "execution_count": 96,
     "metadata": {},
     "output_type": "execute_result"
    }
   ],
   "source": [
    "counter = count(10, 2)\n",
    "next(counter), next(counter), next(counter)"
   ]
  },
  {
   "attachments": {},
   "cell_type": "markdown",
   "metadata": {},
   "source": [
    "### Decorators\n",
    "A decorator takes a function, adds some functionality and returns it."
   ]
  },
  {
   "cell_type": "code",
   "execution_count": 97,
   "metadata": {},
   "outputs": [],
   "source": [
    "@property  #decorator_name\n",
    "def function_that_gets_passed_to_decorator():\n",
    "    pass"
   ]
  },
  {
   "attachments": {},
   "cell_type": "markdown",
   "metadata": {},
   "source": [
    "Example Decorator: timing performance using a decorator.\n",
    "\n",
    "* The functools decorator @functools.wraps is used to maintain function naming and documentation of the function within the decorator. <br>\n",
    "\n",
    "https://stackoverflow.com/questions/51891951/python-decorator-typeerror-missing-1-required-positional-argument"
   ]
  },
  {
   "cell_type": "code",
   "execution_count": 98,
   "metadata": {},
   "outputs": [],
   "source": [
    "from time import time \n",
    "import functools\n",
    "\n",
    "def performance(func):\n",
    "\n",
    "    @functools.wraps\n",
    "    def wrapper(*args, **kwargs):\n",
    "        t1 = time()\n",
    "        result = func(*args, **kwargs)\n",
    "        t2 = time() \n",
    "        print(f\"Took: {t2 - t1} ms\")\n",
    "        return result\n",
    "    return wrapper\n",
    "\n",
    "# calling a function with the decorator \n",
    "@performance\n",
    "def long_time():\n",
    "    print(sum(i*i for i in range(10)))\n",
    "\n",
    "#long_time()"
   ]
  },
  {
   "attachments": {},
   "cell_type": "markdown",
   "metadata": {},
   "source": [
    "#### Debugger Example\n",
    "Decorator that prints function's name every time it gets called."
   ]
  },
  {
   "cell_type": "code",
   "execution_count": 99,
   "metadata": {},
   "outputs": [
    {
     "name": "stdout",
     "output_type": "stream",
     "text": [
      "add\n"
     ]
    },
    {
     "data": {
      "text/plain": [
       "3"
      ]
     },
     "execution_count": 99,
     "metadata": {},
     "output_type": "execute_result"
    }
   ],
   "source": [
    "from functools import wraps\n",
    "\n",
    "def debug(func):\n",
    "    @wraps(func)\n",
    "    def out(*args, **kwargs):\n",
    "        print(func.__name__)\n",
    "        return func(*args, **kwargs)\n",
    "    return out\n",
    "\n",
    "@debug\n",
    "def add(x, y):\n",
    "    return x + y\n",
    "\n",
    "add(1,2)"
   ]
  },
  {
   "attachments": {},
   "cell_type": "markdown",
   "metadata": {},
   "source": [
    "- Wraps is a helper decorator that copies metadata of function add() to function out().\n",
    "- Without it 'add.__name__' would return 'out'."
   ]
  },
  {
   "attachments": {},
   "cell_type": "markdown",
   "metadata": {},
   "source": [
    "### Class\n",
    "User defined objects are created using the class keyword"
   ]
  },
  {
   "cell_type": "code",
   "execution_count": 100,
   "metadata": {},
   "outputs": [],
   "source": [
    "class name:\n",
    "    age = 80 # Class Object Attribute\n",
    "    def __init__(self, a):\n",
    "        self.a = a # Object Attribute\n",
    "\n",
    "    @classmethod\n",
    "    def get_class_name(cls):\n",
    "        return cls.__name__"
   ]
  },
  {
   "attachments": {},
   "cell_type": "markdown",
   "metadata": {},
   "source": [
    "#### Inheritance"
   ]
  },
  {
   "cell_type": "code",
   "execution_count": 101,
   "metadata": {},
   "outputs": [],
   "source": [
    "class Person:\n",
    "    def __init__(self, name, age):\n",
    "        self.name = name\n",
    "        self.age  = age\n",
    "\n",
    "class Employee(Person):\n",
    "    def __init__(self, name, age, staff_num):\n",
    "        super().__init__(name, age)\n",
    "        self.staff_num = staff_num"
   ]
  },
  {
   "attachments": {},
   "cell_type": "markdown",
   "metadata": {},
   "source": [
    "#### Multiple Inheritance"
   ]
  },
  {
   "cell_type": "code",
   "execution_count": 102,
   "metadata": {},
   "outputs": [],
   "source": [
    "class A: pass\n",
    "class B: pass\n",
    "class C(A, B): pass"
   ]
  },
  {
   "attachments": {},
   "cell_type": "markdown",
   "metadata": {},
   "source": [
    "MRO determines the order in which parent classes are traversed when searching for a method:"
   ]
  },
  {
   "cell_type": "code",
   "execution_count": 103,
   "metadata": {},
   "outputs": [
    {
     "data": {
      "text/plain": [
       "[__main__.C, __main__.A, __main__.B, object]"
      ]
     },
     "execution_count": 103,
     "metadata": {},
     "output_type": "execute_result"
    }
   ],
   "source": [
    "C.mro()"
   ]
  },
  {
   "attachments": {},
   "cell_type": "markdown",
   "metadata": {},
   "source": [
    "### Exceptions"
   ]
  },
  {
   "cell_type": "code",
   "execution_count": 104,
   "metadata": {},
   "outputs": [
    {
     "name": "stdout",
     "output_type": "stream",
     "text": [
      "No division by zero!\n"
     ]
    }
   ],
   "source": [
    "try:\n",
    "  5/0\n",
    "except ZeroDivisionError:\n",
    "  print(\"No division by zero!\")"
   ]
  },
  {
   "cell_type": "code",
   "execution_count": 105,
   "metadata": {},
   "outputs": [
    {
     "name": "stdout",
     "output_type": "stream",
     "text": [
      "Carry on!\n"
     ]
    }
   ],
   "source": [
    "while True:\n",
    "  try:\n",
    "    x = int(input('Enter your age: '))\n",
    "  except ValueError:\n",
    "    print('Oops!  That was no valid number.  Try again...')\n",
    "  else: # code that depends on the try block running successfully should be placed in the else block.\n",
    "    print('Carry on!')\n",
    "    break"
   ]
  },
  {
   "cell_type": "code",
   "execution_count": 106,
   "metadata": {},
   "outputs": [],
   "source": [
    "# raise ValueError('some error message')"
   ]
  },
  {
   "attachments": {},
   "cell_type": "markdown",
   "metadata": {},
   "source": [
    "### Finally"
   ]
  },
  {
   "cell_type": "code",
   "execution_count": 107,
   "metadata": {},
   "outputs": [
    {
     "name": "stdout",
     "output_type": "stream",
     "text": [
      "oops\n",
      "All done!\n"
     ]
    }
   ],
   "source": [
    "try:\n",
    "  raise KeyboardInterrupt\n",
    "except:\n",
    "  print('oops')\n",
    "finally:\n",
    "  print('All done!')\n"
   ]
  },
  {
   "attachments": {},
   "cell_type": "markdown",
   "metadata": {},
   "source": [
    "### Command Line Arguments"
   ]
  },
  {
   "cell_type": "code",
   "execution_count": 108,
   "metadata": {},
   "outputs": [],
   "source": [
    "import sys\n",
    "script_name = sys.argv[0]\n",
    "arguments   = sys.argv[1:]"
   ]
  },
  {
   "attachments": {},
   "cell_type": "markdown",
   "metadata": {},
   "source": [
    "### File IO\n",
    "Opens a file and returns a corresponding file object."
   ]
  },
  {
   "cell_type": "code",
   "execution_count": 109,
   "metadata": {},
   "outputs": [],
   "source": [
    "# <file> = open('<path>', mode='r', encoding=None)"
   ]
  },
  {
   "attachments": {},
   "cell_type": "markdown",
   "metadata": {},
   "source": [
    "#### Modes\n",
    "- 'r' - Read (default).\n",
    "- 'w' - Write (truncate).\n",
    "- 'x' - Write or fail if the file already exists.\n",
    "- 'a' - Append.\n",
    "- 'w+' - Read and write (truncate).\n",
    "- 'r+' - Read and write from the start.\n",
    "- 'a+' - Read and write from the end.\n",
    "- 't' - Text mode (default).\n",
    "- 'b' - Binary mode."
   ]
  },
  {
   "attachments": {},
   "cell_type": "markdown",
   "metadata": {},
   "source": [
    "#### File"
   ]
  },
  {
   "cell_type": "code",
   "execution_count": 110,
   "metadata": {},
   "outputs": [],
   "source": [
    "# <file>.seek(0)    # Moves to the start of the file.\n",
    "# <str/bytes> = <file>.readline()     # Returns a line.\n",
    "# <list>      = <file>.readlines()    # Returns a list of lines.\n",
    "# <file>.write(<str/bytes>)           # Writes a string or bytes object.\n",
    "# <file>.writelines(<list>)           # Writes a list of strings or bytes objects."
   ]
  },
  {
   "attachments": {},
   "cell_type": "markdown",
   "metadata": {},
   "source": [
    "- Methods do not add or strip trailing newlines."
   ]
  },
  {
   "attachments": {},
   "cell_type": "markdown",
   "metadata": {},
   "source": [
    "#### Read Text from File"
   ]
  },
  {
   "cell_type": "code",
   "execution_count": 111,
   "metadata": {},
   "outputs": [
    {
     "name": "stdout",
     "output_type": "stream",
     "text": [
      "samlpeText\n",
      "\n",
      "samlpeText\n"
     ]
    }
   ],
   "source": [
    "filename = 'myfile.txt'\n",
    "def read_file(filename):\n",
    "    with open(filename, encoding='utf-8') as file:\n",
    "        return file.readlines() # or read()\n",
    "\n",
    "for line in read_file(filename):\n",
    "  print(line)"
   ]
  },
  {
   "attachments": {},
   "cell_type": "markdown",
   "metadata": {},
   "source": [
    "#### Write Text to File"
   ]
  },
  {
   "cell_type": "code",
   "execution_count": 112,
   "metadata": {},
   "outputs": [],
   "source": [
    "def write_to_file(filename, text):\n",
    "    with open(filename, 'w', encoding='utf-8') as file:\n",
    "        file.write(text)"
   ]
  },
  {
   "cell_type": "code",
   "execution_count": 113,
   "metadata": {},
   "outputs": [
    {
     "name": "stdout",
     "output_type": "stream",
     "text": [
      "samlpeText\n"
     ]
    }
   ],
   "source": [
    "write_to_file(filename, 'samlpeText')\n",
    "\n",
    "for line in read_file(filename):\n",
    "  print(line)"
   ]
  },
  {
   "attachments": {},
   "cell_type": "markdown",
   "metadata": {},
   "source": [
    "#### Append Text to File"
   ]
  },
  {
   "cell_type": "code",
   "execution_count": 114,
   "metadata": {},
   "outputs": [],
   "source": [
    "def append_to_file(filename, text):\n",
    "    with open(filename, 'a', encoding='utf-8') as file:\n",
    "        file.write(text)"
   ]
  },
  {
   "cell_type": "code",
   "execution_count": 115,
   "metadata": {},
   "outputs": [
    {
     "name": "stdout",
     "output_type": "stream",
     "text": [
      "samlpeText\n",
      "\n",
      "samlpeText\n"
     ]
    }
   ],
   "source": [
    "append_to_file(filename, '\\nsamlpeText')\n",
    "\n",
    "for line in read_file(filename):\n",
    "  print(line)"
   ]
  },
  {
   "attachments": {},
   "cell_type": "markdown",
   "metadata": {},
   "source": [
    "### Useful Libraries"
   ]
  },
  {
   "attachments": {},
   "cell_type": "markdown",
   "metadata": {},
   "source": [
    "#### CSV"
   ]
  },
  {
   "cell_type": "code",
   "execution_count": 116,
   "metadata": {},
   "outputs": [],
   "source": [
    "import csv"
   ]
  },
  {
   "attachments": {},
   "cell_type": "markdown",
   "metadata": {},
   "source": [
    "#### Read Rows from CSV File"
   ]
  },
  {
   "cell_type": "code",
   "execution_count": 117,
   "metadata": {},
   "outputs": [
    {
     "name": "stdout",
     "output_type": "stream",
     "text": [
      "I/O operation on closed file.\n"
     ]
    }
   ],
   "source": [
    "def read_csv_file(filename):\n",
    "    with open(filename, encoding='utf-8') as file:\n",
    "        return csv.reader(file, delimiter=';')\n",
    "filename = 'testCSV.csv'\n",
    "file = read_csv_file(filename)\n",
    "\n",
    "try:\n",
    "    for row in file:\n",
    "        print(row)\n",
    "except Exception as e:\n",
    "    print(e)"
   ]
  },
  {
   "cell_type": "code",
   "execution_count": 118,
   "metadata": {},
   "outputs": [
    {
     "name": "stdout",
     "output_type": "stream",
     "text": [
      "{'name,age': 'prad,25'}\n",
      "{'name,age': 'pal,24'}\n",
      "{'name,age': 'sam,38'}\n"
     ]
    }
   ],
   "source": [
    "def read_csv_file(filename):\n",
    "    with open(filename, encoding='utf-8') as file:\n",
    "        file = csv.DictReader(file, delimiter=';')\n",
    "\n",
    "        for row in file:\n",
    "            print(row)\n",
    "\n",
    "read_csv_file(filename)"
   ]
  },
  {
   "attachments": {},
   "cell_type": "markdown",
   "metadata": {},
   "source": [
    "#### Writing to CSV"
   ]
  },
  {
   "cell_type": "code",
   "execution_count": 119,
   "metadata": {},
   "outputs": [],
   "source": [
    "def write_to_csv_file(filename, rows):\n",
    "    with open(filename, 'w', encoding='utf-8') as file:\n",
    "        writer = csv.writer(file, delimiter=';')\n",
    "        writer.writerows(rows)"
   ]
  },
  {
   "attachments": {},
   "cell_type": "markdown",
   "metadata": {},
   "source": [
    "### JSON"
   ]
  },
  {
   "cell_type": "code",
   "execution_count": 120,
   "metadata": {},
   "outputs": [],
   "source": [
    "import json\n",
    "# <str>    = json.dumps(<object>, ensure_ascii=True, indent=None)\n",
    "# <object> = json.loads(<str>)"
   ]
  },
  {
   "attachments": {},
   "cell_type": "markdown",
   "metadata": {},
   "source": [
    "#### Read Object from JSON File"
   ]
  },
  {
   "cell_type": "code",
   "execution_count": 121,
   "metadata": {},
   "outputs": [],
   "source": [
    "def read_json_file(filename):\n",
    "    with open(filename, encoding='utf-8') as file:\n",
    "        return json.load(file)"
   ]
  },
  {
   "attachments": {},
   "cell_type": "markdown",
   "metadata": {},
   "source": [
    "#### Write Object to JSON File"
   ]
  },
  {
   "cell_type": "code",
   "execution_count": 122,
   "metadata": {},
   "outputs": [],
   "source": [
    "def write_to_json_file(filename, an_object):\n",
    "    with open(filename, 'w', encoding='utf-8') as file:\n",
    "        json.dump(an_object, file, ensure_ascii=False, indent=2)"
   ]
  },
  {
   "attachments": {},
   "cell_type": "markdown",
   "metadata": {},
   "source": [
    "#### Append Text to File"
   ]
  },
  {
   "cell_type": "code",
   "execution_count": 123,
   "metadata": {},
   "outputs": [],
   "source": [
    "def append_to_file(filename, text):\n",
    "    with open(filename, 'a', encoding='utf-8') as file:\n",
    "        file.write(text)"
   ]
  },
  {
   "cell_type": "code",
   "execution_count": 124,
   "metadata": {},
   "outputs": [
    {
     "data": {
      "text/plain": [
       "100"
      ]
     },
     "execution_count": 124,
     "metadata": {},
     "output_type": "execute_result"
    }
   ],
   "source": [
    "filename = \"testJSON.json\"\n",
    "\n",
    "file = read_json_file(filename)\n",
    "file[\"grades\"][\"maths\"]"
   ]
  },
  {
   "attachments": {},
   "cell_type": "markdown",
   "metadata": {},
   "source": [
    "### Pickle\n",
    "“Pickling” is the process whereby a Python object hierarchy is converted into a byte stream, and “unpickling” is the inverse operation, whereby a byte stream (from a binary file or bytes-like object) is converted back into an object hierarchy.\n",
    "\n",
    "Python pickle module is used for serializing and de-serializing a Python object structure."
   ]
  },
  {
   "cell_type": "code",
   "execution_count": 125,
   "metadata": {},
   "outputs": [],
   "source": [
    "import pickle\n",
    "# <bytes>  = pickle.dumps(<object>)\n",
    "# <object> = pickle.loads(<bytes>)"
   ]
  },
  {
   "attachments": {},
   "cell_type": "markdown",
   "metadata": {},
   "source": [
    "#### Read Object from File"
   ]
  },
  {
   "cell_type": "code",
   "execution_count": 126,
   "metadata": {},
   "outputs": [],
   "source": [
    "def read_pickle_file(filename):\n",
    "    with open(filename, 'rb') as file:\n",
    "        return pickle.load(file)"
   ]
  },
  {
   "attachments": {},
   "cell_type": "markdown",
   "metadata": {},
   "source": [
    "#### Write Object to File"
   ]
  },
  {
   "cell_type": "code",
   "execution_count": 127,
   "metadata": {},
   "outputs": [],
   "source": [
    "def write_to_pickle_file(filename, an_object):\n",
    "    with open(filename, 'wb') as file:\n",
    "        pickle.dump(an_object, file)"
   ]
  },
  {
   "attachments": {},
   "cell_type": "markdown",
   "metadata": {},
   "source": [
    "### Profile"
   ]
  },
  {
   "attachments": {},
   "cell_type": "markdown",
   "metadata": {},
   "source": [
    "#### Basic"
   ]
  },
  {
   "cell_type": "code",
   "execution_count": 128,
   "metadata": {},
   "outputs": [
    {
     "data": {
      "text/plain": [
       "0.10034394264221191"
      ]
     },
     "execution_count": 128,
     "metadata": {},
     "output_type": "execute_result"
    }
   ],
   "source": [
    "import time\n",
    "start_time = time.time()  # Seconds since\n",
    "time.sleep(0.1)\n",
    "duration = time.time() - start_time\n",
    "duration"
   ]
  },
  {
   "attachments": {},
   "cell_type": "markdown",
   "metadata": {},
   "source": [
    "#### Math"
   ]
  },
  {
   "cell_type": "code",
   "execution_count": 129,
   "metadata": {},
   "outputs": [],
   "source": [
    "from math import e, pi\n",
    "from math import cos, acos, sin, asin, tan, atan, degrees, radians\n",
    "from math import log, log10, log2\n",
    "from math import inf, nan, isinf, isnan"
   ]
  },
  {
   "attachments": {},
   "cell_type": "markdown",
   "metadata": {},
   "source": [
    "#### Statistics"
   ]
  },
  {
   "cell_type": "code",
   "execution_count": 130,
   "metadata": {},
   "outputs": [],
   "source": [
    "from statistics import mean, median, variance, pvariance, pstdev"
   ]
  },
  {
   "attachments": {},
   "cell_type": "markdown",
   "metadata": {},
   "source": [
    "#### Random"
   ]
  },
  {
   "cell_type": "code",
   "execution_count": 131,
   "metadata": {},
   "outputs": [],
   "source": [
    "from random import random, randint, choice, shuffle\n",
    "random() # random float between 0 and 1\n",
    "randint(0, 100) # random integer between 0 and 100\n",
    "random_el = choice([1,2,3,4]) # select a random element from list\n",
    "shuffle([1,2,3,4]) # shuffles a list"
   ]
  },
  {
   "attachments": {},
   "cell_type": "markdown",
   "metadata": {},
   "source": [
    "### Datetime"
   ]
  },
  {
   "cell_type": "code",
   "execution_count": 132,
   "metadata": {},
   "outputs": [],
   "source": [
    "# - Module 'datetime' provides 'date' $lt;D>, 'time' <T>, 'datetime' <DT> and 'timedelta' <TD> classes. All are immutable and hashable.\n",
    "# - Time and datetime can be 'aware' <a>, meaning they have defined timezone, or 'naive' <n>, meaning they don't.\n",
    "# - If object is naive it is presumed to be in system's timezone."
   ]
  },
  {
   "cell_type": "code",
   "execution_count": 133,
   "metadata": {},
   "outputs": [],
   "source": [
    "from datetime import date, time, datetime, timedelta\n",
    "from dateutil.tz import UTC, tzlocal, gettz"
   ]
  },
  {
   "attachments": {},
   "cell_type": "markdown",
   "metadata": {},
   "source": [
    "#### Constructors"
   ]
  },
  {
   "cell_type": "code",
   "execution_count": 134,
   "metadata": {},
   "outputs": [],
   "source": [
    "# <D>  = date(year, month, day)\n",
    "# <T>  = time(hour=0, minute=0, second=0, microsecond=0, tzinfo=None, fold=0)\n",
    "# <DT> = datetime(year, month, day, hour=0, minute=0, second=0, ...)\n",
    "# <TD> = timedelta(days=0, seconds=0, microseconds=0, milliseconds=0,\n",
    "#                  minutes=0, hours=0, weeks=0)"
   ]
  },
  {
   "cell_type": "code",
   "execution_count": 135,
   "metadata": {},
   "outputs": [],
   "source": [
    "# Use '<D/DT>.weekday()' to get the day of the week (Mon == 0).\n",
    "# 'fold=1' means second pass in case of time jumping back for one hour."
   ]
  },
  {
   "attachments": {},
   "cell_type": "markdown",
   "metadata": {},
   "source": [
    "#### Now"
   ]
  },
  {
   "cell_type": "code",
   "execution_count": 136,
   "metadata": {},
   "outputs": [],
   "source": [
    "# <D/DTn>  = D/DT.today()                     # Current local date or naive datetime.\n",
    "# <DTn>    = DT.utcnow()                      # Naive datetime from current UTC time.\n",
    "# <DTa>    = DT.now(<tz>)                     # Aware datetime from current tz time."
   ]
  },
  {
   "attachments": {},
   "cell_type": "markdown",
   "metadata": {},
   "source": [
    "#### Timezone"
   ]
  },
  {
   "cell_type": "code",
   "execution_count": 137,
   "metadata": {},
   "outputs": [],
   "source": [
    "# <tz>     = UTC                              # UTC timezone.\n",
    "# <tz>     = tzlocal()                        # Local timezone.\n",
    "# <tz>     = gettz('<Cont.>/<City>')          # Timezone from 'Continent/City_Name' str."
   ]
  },
  {
   "cell_type": "code",
   "execution_count": 138,
   "metadata": {},
   "outputs": [],
   "source": [
    "# <DTa>    = <DT>.astimezone(<tz>)            # Datetime, converted to passed timezone.\n",
    "# <Ta/DTa> = <T/DT>.replace(tzinfo=<tz>)      # Unconverted object with new timezone."
   ]
  },
  {
   "attachments": {},
   "cell_type": "markdown",
   "metadata": {},
   "source": [
    "### Regex"
   ]
  },
  {
   "cell_type": "code",
   "execution_count": 139,
   "metadata": {},
   "outputs": [],
   "source": [
    "# import re\n",
    "# <str>   = re.sub(<regex>, new, text, count=0)  # Substitutes all occurrences.\n",
    "# <list>  = re.findall(<regex>, text)            # Returns all occurrences.\n",
    "# <list>  = re.split(<regex>, text, maxsplit=0)  # Use brackets in regex to keep the matches.\n",
    "# <Match> = re.search(<regex>, text)             # Searches for first occurrence of pattern.\n",
    "# <Match> = re.match(<regex>, text)              # Searches only at the beginning of the text."
   ]
  },
  {
   "attachments": {},
   "cell_type": "markdown",
   "metadata": {},
   "source": [
    "### Special Sequences\n",
    "Expressions below hold true for strings that contain only ASCII characters. Use capital letters for negation."
   ]
  },
  {
   "cell_type": "code",
   "execution_count": 140,
   "metadata": {},
   "outputs": [
    {
     "data": {
      "text/plain": [
       "False"
      ]
     },
     "execution_count": 140,
     "metadata": {},
     "output_type": "execute_result"
    }
   ],
   "source": [
    "'\\d' == '[0-9]'          # Digit\n",
    "'\\s' == '[ \\t\\n\\r\\f\\v]'  # Whitespace\n",
    "'\\w' == '[a-zA-Z0-9_]'   # Alphanumeric"
   ]
  },
  {
   "attachments": {},
   "cell_type": "markdown",
   "metadata": {},
   "source": [
    "## Credits\n",
    "Inspired by https://github.com/aneagoie/ztm-python-cheat-sheet#useful-libraries"
   ]
  }
 ],
 "metadata": {
  "kernelspec": {
   "display_name": "open_ai",
   "language": "python",
   "name": "python3"
  },
  "language_info": {
   "codemirror_mode": {
    "name": "ipython",
    "version": 3
   },
   "file_extension": ".py",
   "mimetype": "text/x-python",
   "name": "python",
   "nbconvert_exporter": "python",
   "pygments_lexer": "ipython3",
   "version": "3.10.6"
  },
  "orig_nbformat": 4
 },
 "nbformat": 4,
 "nbformat_minor": 2
}
