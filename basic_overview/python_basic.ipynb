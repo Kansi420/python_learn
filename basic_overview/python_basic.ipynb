{
 "cells": [
  {
   "attachments": {},
   "cell_type": "markdown",
   "metadata": {},
   "source": [
    "# Python cheatsheet with basic python commands "
   ]
  },
  {
   "attachments": {},
   "cell_type": "markdown",
   "metadata": {},
   "source": [
    "Contents <br>\n",
    "___\n",
    "Python Types: <br> \n",
    "Numbers, Strings, Boolean, Lists, Dictionaries, Tuples, Sets, None\n",
    "\n",
    "Python Basics: <br>\n",
    "Comparison Operators, Logical Operators, Loops, Range, Enumerate, Counter, Named Tuple, OrderedDict\n",
    "\n",
    "Functions: <br>\n",
    "Functions, Lambda, Comprehensions, Map, Filter, Reduce, Ternary, Any, All, Closures, Scope\n",
    "\n",
    "Advanced Python: <br>\n",
    "Modules, Iterators, Generators, Decorators, Class, Exceptions, Command Line Arguments, File IO, Useful Libraries\n"
   ]
  },
  {
   "attachments": {},
   "cell_type": "markdown",
   "metadata": {},
   "source": [
    "## Python Types"
   ]
  },
  {
   "attachments": {},
   "cell_type": "markdown",
   "metadata": {},
   "source": [
    "### Numbers"
   ]
  },
  {
   "cell_type": "code",
   "execution_count": 113,
   "metadata": {},
   "outputs": [
    {
     "data": {
      "text/plain": [
       "(int, int, int, float, float, float)"
      ]
     },
     "execution_count": 113,
     "metadata": {},
     "output_type": "execute_result"
    }
   ],
   "source": [
    "type(1), type(-10), type(0), type(0.0), type(2.2), type(4E2) # 4*10 to the power of 2"
   ]
  },
  {
   "cell_type": "code",
   "execution_count": 114,
   "metadata": {},
   "outputs": [
    {
     "data": {
      "text/plain": [
       "(13, 7, 30, 1000, 3.3333333333333335, 3, 1)"
      ]
     },
     "execution_count": 114,
     "metadata": {},
     "output_type": "execute_result"
    }
   ],
   "source": [
    "# Arithmetic\n",
    "a1 = 10 + 3  # 13\n",
    "a2 = 10 - 3  # 7\n",
    "a3 = 10 * 3  # 30\n",
    "a4 = 10 ** 3 # 1000\n",
    "a5 = 10 / 3  # 3.3333333333333335\n",
    "a6 = 10 // 3 # 3 --> floor division - no decimals and returns an int\n",
    "a7 = 10 % 3  # 1 --> modulo operator - return the reminder. Good for deciding if number is even or odd\n",
    "a1, a2, a3, a4, a5, a6, a7"
   ]
  },
  {
   "cell_type": "code",
   "execution_count": 115,
   "metadata": {},
   "outputs": [
    {
     "data": {
      "text/plain": [
       "(25, 50, 5, 5.47, '0b1000000000', '0x200')"
      ]
     },
     "execution_count": 115,
     "metadata": {},
     "output_type": "execute_result"
    }
   ],
   "source": [
    "# Basic Functions\n",
    "p = pow(5, 2)  #25 --> like doing 5**2\n",
    "ab = abs(-50)       # 50\n",
    "r1 = round(5.46)    # 5\n",
    "r2 = round(5.468, 2)# 5.47 --> round to nth digit\n",
    "b = bin(512)       # '0b1000000000' -->  binary format\n",
    "h = hex(512)       # '0x200' --> hexadecimal format\n",
    "p, ab, r1, r2, b, h"
   ]
  },
  {
   "attachments": {},
   "cell_type": "markdown",
   "metadata": {},
   "source": [
    "### Strings\n",
    "Strings in python are stored as sequences of letters in memory"
   ]
  },
  {
   "cell_type": "code",
   "execution_count": 116,
   "metadata": {},
   "outputs": [
    {
     "data": {
      "text/plain": [
       "str"
      ]
     },
     "execution_count": 116,
     "metadata": {},
     "output_type": "execute_result"
    }
   ],
   "source": [
    "type('Hellloooooo') # str"
   ]
  },
  {
   "cell_type": "code",
   "execution_count": 117,
   "metadata": {},
   "outputs": [
    {
     "name": "stdout",
     "output_type": "stream",
     "text": [
      "\\t\n"
     ]
    }
   ],
   "source": [
    "print(\"\\\\t\")"
   ]
  },
  {
   "cell_type": "code",
   "execution_count": 118,
   "metadata": {},
   "outputs": [
    {
     "data": {
      "text/plain": [
       "'**********'"
      ]
     },
     "execution_count": 118,
     "metadata": {},
     "output_type": "execute_result"
    }
   ],
   "source": [
    "'I\\'m thirsty'\n",
    "\"I'm thirsty\"\n",
    "\"\\n\" # new line\n",
    "\"\\t\" # adds a tab\n",
    "\n",
    "'Hey you!'[4] # y\n",
    "name = 'Andrei Neagoie'\n",
    "name[4]     # e\n",
    "name[:]     # Andrei Neagoie\n",
    "name[1:]    # ndrei Neagoie\n",
    "name[:1]    # A\n",
    "name[-1]    # e\n",
    "name[::1]   # Andrei Neagoie\n",
    "name[::-1]  # eiogaeN ierdnA\n",
    "name[0:10:2]# Ade e\n",
    "# : is called slicing and has the format [ start : end : step ]\n",
    "\n",
    "'Hi there ' + 'Timmy' # 'Hi there Timmy' --> This is called string concatenation\n",
    "'*'*10 # **********"
   ]
  },
  {
   "cell_type": "code",
   "execution_count": 119,
   "metadata": {},
   "outputs": [
    {
     "name": "stdout",
     "output_type": "stream",
     "text": [
      "I am alone\n",
      "On an islan\n",
      "['but', 'life', 'is', 'good!']\n",
      "Help you\n",
      "True\n",
      "True\n",
      "STILL THERE?\n",
      "hello?!\n",
      "Ok, i am done.\n",
      "2\n",
      "2\n",
      "4\n",
      "-1\n",
      "ValueError was raised: substring not found\n"
     ]
    }
   ],
   "source": [
    "# Basic Functions\n",
    "len('turtle') # 6\n",
    "\n",
    "# Basic Methods\n",
    "print('  I am alone '.strip())               # 'I am alone' --> Strips all whitespace characters from both ends.\n",
    "print('On an island'.strip('d'))             # 'On an islan' --> # Strips all passed characters from both ends.\n",
    "print('but life is good!'.split())           # ['but', 'life', 'is', 'good!']\n",
    "print('Help me'.replace('me', 'you'))        # 'Help you' --> Replaces first with second param\n",
    "print('Need to make fire'.startswith('Need'))# True\n",
    "print('and cook rice'.endswith('rice'))      # True\n",
    "print('still there?'.upper())                # STILL THERE?\n",
    "print('HELLO?!'.lower())                     # hello?!\n",
    "print('ok, I am done.'.capitalize())         # 'Ok, I am done.'\n",
    "print('oh hi there'.count('e'))              # 2\n",
    "print('bye bye'.index('e'))                  # 2\n",
    "print('oh hi there'.find('i'))               # 4 --> returns the starting index position of the first occurrence\n",
    "print('oh hi there'.find('a'))               # -1\n",
    "try:\n",
    "    'oh hi there'.index('a')\n",
    "except Exception as err:\n",
    "    print(f\"{type(err).__name__} was raised: {err}\")    # Raises ValueError"
   ]
  },
  {
   "cell_type": "code",
   "execution_count": 120,
   "metadata": {},
   "outputs": [
    {
     "name": "stdout",
     "output_type": "stream",
     "text": [
      "Hello there Andrei and Sunny\n",
      "Hello there Andrei and Sunny\n",
      "Hello there Andrei and Sunny\n"
     ]
    }
   ],
   "source": [
    "# String Formatting\n",
    "name1 = 'Andrei'\n",
    "name2 = 'Sunny'\n",
    "print(f'Hello there {name1} and {name2}')       # Hello there Andrei and Sunny - Newer way to do things as of python 3.6\n",
    "print('Hello there {} and {}'.format(name1, name2))# Hello there Andrei and Sunny\n",
    "print('Hello there %s and %s' %(name1, name2))  # Hello there Andrei and Sunny --> you can also use %d, %f, %r for integers, floats, string representations of objects respectively"
   ]
  },
  {
   "cell_type": "code",
   "execution_count": 121,
   "metadata": {},
   "outputs": [
    {
     "name": "stdout",
     "output_type": "stream",
     "text": [
      "True\n"
     ]
    }
   ],
   "source": [
    "# Palindrome check\n",
    "word = 'reviver'\n",
    "p = bool(word.find(word[::-1]) + 1)\n",
    "print(p)"
   ]
  },
  {
   "attachments": {},
   "cell_type": "markdown",
   "metadata": {},
   "source": [
    "### Boolean\n",
    "True or False. Used in a lot of comparison and logical operations in Python"
   ]
  },
  {
   "cell_type": "code",
   "execution_count": 122,
   "metadata": {},
   "outputs": [
    {
     "name": "stdout",
     "output_type": "stream",
     "text": [
      "False\n",
      "False\n",
      "False\n",
      "False\n",
      "False\n",
      "False\n",
      "False\n",
      "False\n",
      "False\n",
      "False\n"
     ]
    }
   ],
   "source": [
    "bool(True)\n",
    "bool(False)\n",
    "\n",
    "# all of the below evaluate to False. Everything else will evaluate to True in Python.\n",
    "print(bool(None))\n",
    "print(bool(False))\n",
    "print(bool(0))\n",
    "print(bool(0.0))\n",
    "print(bool([]))\n",
    "print(bool({}))\n",
    "print(bool(()))\n",
    "print(bool(''))\n",
    "print(bool(range(0)))\n",
    "print(bool(set()))\n",
    "\n",
    "# See Logical Operators and Comparison Operators section for more on booleans."
   ]
  },
  {
   "attachments": {},
   "cell_type": "markdown",
   "metadata": {},
   "source": [
    "### Lists\n",
    "Unlike strings, lists are mutable sequences in python"
   ]
  },
  {
   "cell_type": "code",
   "execution_count": 123,
   "metadata": {},
   "outputs": [
    {
     "data": {
      "text/plain": [
       "[1, '3']"
      ]
     },
     "execution_count": 123,
     "metadata": {},
     "output_type": "execute_result"
    }
   ],
   "source": [
    "my_list = [1, 2, '3', True]# We assume this list won't mutate for each example below\n",
    "len(my_list)               # 4\n",
    "my_list.index('3')         # 2\n",
    "my_list.count(2)           # 1 --> count how many times 2 appears\n",
    "\n",
    "my_list[3]                 # True\n",
    "my_list[1:]                # [2, '3', True]\n",
    "my_list[:1]                # [1]\n",
    "my_list[-1]                # True\n",
    "my_list[::1]               # [1, 2, '3', True]\n",
    "my_list[::-1]              # [True, '3', 2, 1]\n",
    "my_list[0:3:2]             # [1, '3']\n",
    "\n",
    "# : is called slicing and has the format [ start : end : step ]"
   ]
  },
  {
   "cell_type": "code",
   "execution_count": 124,
   "metadata": {},
   "outputs": [
    {
     "data": {
      "text/plain": [
       "'Hello There'"
      ]
     },
     "execution_count": 124,
     "metadata": {},
     "output_type": "execute_result"
    }
   ],
   "source": [
    "# Add to List\n",
    "my_list * 2                # [1, 2, '3', True, 1, 2, '3', True]\n",
    "my_list + [100]            # [1, 2, '3', True, 100] --> doesn't mutate original list, creates new one\n",
    "my_list.append(100)        # None --> Mutates original list to [1, 2, '3', True, 100]          # Or: <list> += [<el>]\n",
    "my_list.extend([100, 200]) # None --> Mutates original list to [1, 2, '3', True, 100, 200]\n",
    "my_list.insert(2, '!!!')   # None -->  [1, 2, '!!!', '3', True] - Inserts item at index and moves the rest to the right.\n",
    "\n",
    "' '.join(['Hello','There'])# 'Hello There' --> Joins elements using string as separator."
   ]
  },
  {
   "cell_type": "code",
   "execution_count": 125,
   "metadata": {},
   "outputs": [],
   "source": [
    "# Copy a List\n",
    "basket = ['apples', 'pears', 'oranges']\n",
    "new_basket = basket.copy()\n",
    "new_basket2 = basket[:]"
   ]
  },
  {
   "cell_type": "code",
   "execution_count": 126,
   "metadata": {},
   "outputs": [],
   "source": [
    "# Remove from List\n",
    "[1,2,3].pop()    # 3 --> mutates original list, default index in the pop method is -1 (the last item)\n",
    "[1,2,3].pop(1)   # 2 --> mutates original list\n",
    "[1,2,3].remove(2)# None --> [1,3] Removes first occurrence of item or raises ValueError.\n",
    "[1,2,3].clear()  # None --> mutates original list and removes all items: []\n",
    "del [1,2,3][0]   # None --> removes item on index 0 or raises IndexError"
   ]
  },
  {
   "cell_type": "code",
   "execution_count": 127,
   "metadata": {},
   "outputs": [
    {
     "data": {
      "text/plain": [
       "[3, 5, 2, 1]"
      ]
     },
     "execution_count": 127,
     "metadata": {},
     "output_type": "execute_result"
    }
   ],
   "source": [
    "# Ordering\n",
    "[1,2,5,3].sort()         # None --> Mutates list to [1, 2, 3, 5]\n",
    "[1,2,5,3].sort(reverse=True) # None --> Mutates list to [5, 3, 2, 1]\n",
    "[1,2,5,3].reverse()      # None --> Mutates list to [3, 5, 2, 1]\n",
    "sorted([1,2,5,3])        # [1, 2, 3, 5] --> new list created\n",
    "my_list = [(4,1),(2,4),(2,5),(1,6),(8,9)]\n",
    "sorted(my_list,key=lambda x: int(x[0])) # [(1, 6), (2, 4), (2, 5), (4, 1), (8, 9)] --> sort the list by 1st (0th index) value of the tuple\n",
    "list(reversed([1,2,5,3]))# [3, 5, 2, 1] --> reversed() returns an iterator"
   ]
  },
  {
   "cell_type": "code",
   "execution_count": 128,
   "metadata": {},
   "outputs": [
    {
     "data": {
      "text/plain": [
       "15"
      ]
     },
     "execution_count": 128,
     "metadata": {},
     "output_type": "execute_result"
    }
   ],
   "source": [
    "# Useful operations\n",
    "1 in [1,2,5,3]  # True\n",
    "min([1,2,3,4,5])# 1\n",
    "max([1,2,3,4,5])# 5\n",
    "sum([1,2,3,4,5])# 15"
   ]
  },
  {
   "cell_type": "code",
   "execution_count": 129,
   "metadata": {},
   "outputs": [
    {
     "name": "stdout",
     "output_type": "stream",
     "text": [
      "63\n",
      "10\n"
     ]
    }
   ],
   "source": [
    "# Get First and Last element of a list\n",
    "mList = [63, 21, 30, 14, 35, 26, 77, 18, 49, 10]\n",
    "first, *x, last = mList\n",
    "print(first) #63\n",
    "print(last) #10"
   ]
  },
  {
   "cell_type": "code",
   "execution_count": 130,
   "metadata": {},
   "outputs": [
    {
     "name": "stdout",
     "output_type": "stream",
     "text": [
      "1\n",
      "2\n",
      "3\n",
      "4\n",
      "5\n",
      "6\n"
     ]
    },
    {
     "data": {
      "text/plain": [
       "[(1, 4), (2, 5), (3, 6)]"
      ]
     },
     "execution_count": 130,
     "metadata": {},
     "output_type": "execute_result"
    }
   ],
   "source": [
    "# Matrix\n",
    "matrix = [[1,2,3], [4,5,6], [7,8,9]]\n",
    "matrix[2][0] # 7 --> Grab first first of the third item in the matrix object\n",
    "\n",
    "# Looping through a matrix by rows:\n",
    "mx = [[1,2,3],[4,5,6]]\n",
    "for row in range(len(mx)):\n",
    "\tfor col in range(len(mx[0])):\n",
    "\t\tprint(mx[row][col]) # 1 2 3 4 5 6\n",
    "    \n",
    "# Transform into a list:\n",
    "[mx[row][col] for row in range(len(mx)) for col in range(len(mx[0]))] # [1,2,3,4,5,6]\n",
    "\n",
    "# Combine columns with zip and *:\n",
    "[x for x in zip(*mx)] # [(1, 3), (2, 4)]\n"
   ]
  },
  {
   "cell_type": "code",
   "execution_count": 131,
   "metadata": {},
   "outputs": [],
   "source": [
    "# List Comprehensions\n",
    "# new_list[<action> for <item> in <iterator> if <some condition>]\n",
    "a = [i for i in 'hello']                  # ['h', 'e', 'l', 'l', '0']\n",
    "b = [i*2 for i in [1,2,3]]                # [2, 4, 6]\n",
    "c = [i for i in range(0,10) if i % 2 == 0]# [0, 2, 4, 6, 8]"
   ]
  },
  {
   "cell_type": "code",
   "execution_count": 132,
   "metadata": {},
   "outputs": [],
   "source": [
    "# Advanced Functions\n",
    "list_of_chars = list('Helloooo')                                   # ['H', 'e', 'l', 'l', 'o', 'o', 'o', 'o']\n",
    "sum_of_elements = sum([1,2,3,4,5])                                 # 15\n",
    "element_sum = [sum(pair) for pair in zip([1,2,3],[4,5,6])]         # [5, 7, 9]\n",
    "sorted_by_second = sorted(['hi','you','man'], key=lambda el: el[1])# ['man', 'hi', 'you']\n",
    "sorted_by_key = sorted([\n",
    "                       {'name': 'Bina', 'age': 30},\n",
    "                       {'name':'Andy', 'age': 18},\n",
    "                       {'name': 'Zoey', 'age': 55}],\n",
    "                       key=lambda el: (el['name']))# [{'name': 'Andy', 'age': 18}, {'name': 'Bina', 'age': 30}, {'name': 'Zoey', 'age': 55}]"
   ]
  },
  {
   "cell_type": "code",
   "execution_count": 133,
   "metadata": {},
   "outputs": [
    {
     "data": {
      "text/plain": [
       "['First Line', 'Second line']"
      ]
     },
     "execution_count": 133,
     "metadata": {},
     "output_type": "execute_result"
    }
   ],
   "source": [
    "# Read line of a file into a list\n",
    "with open(\"myfile.txt\") as f:\n",
    "  lines = [line.strip() for line in f]\n",
    "lines"
   ]
  },
  {
   "attachments": {},
   "cell_type": "markdown",
   "metadata": {},
   "source": [
    "### Dictionaries\n",
    "Also known as mappings or hash tables. They are key value pairs that are guaranteed to retain order of insertion starting from Python 3.7"
   ]
  },
  {
   "cell_type": "code",
   "execution_count": 134,
   "metadata": {},
   "outputs": [],
   "source": [
    "my_dict = {'name': 'Andrei Neagoie', 'age': 30, 'magic_power': False}\n",
    "my_dict['name']                      # Andrei Neagoie\n",
    "len(my_dict)                         # 3\n",
    "list(my_dict.keys())                 # ['name', 'age', 'magic_power']\n",
    "list(my_dict.values())               # ['Andrei Neagoie', 30, False]\n",
    "list(my_dict.items())                # [('name', 'Andrei Neagoie'), ('age', 30), ('magic_power', False)]\n",
    "my_dict['favourite_snack'] = 'Grapes'# {'name': 'Andrei Neagoie', 'age': 30, 'magic_power': False, 'favourite_snack': 'Grapes'}\n",
    "my_dict.get('age')                   # 30 --> Returns None if key does not exist.\n",
    "my_dict.get('ages', 0 )              # 0 --> Returns default (2nd param) if key is not found\n",
    "\n",
    "#Remove key\n",
    "del my_dict['name']\n",
    "my_dict.pop('name', None)"
   ]
  },
  {
   "cell_type": "code",
   "execution_count": 135,
   "metadata": {},
   "outputs": [
    {
     "data": {
      "text/plain": [
       "{'age': 30, 'magic_power': False, 'cool': True}"
      ]
     },
     "execution_count": 135,
     "metadata": {},
     "output_type": "execute_result"
    }
   ],
   "source": [
    "my_dict.update({'cool': True})                                         # {'name': 'Andrei Neagoie', 'age': 30, 'magic_power': False, 'favourite_snack': 'Grapes', 'cool': True}\n",
    "{**my_dict, **{'cool': True} }                                         # {'name': 'Andrei Neagoie', 'age': 30, 'magic_power': False, 'favourite_snack': 'Grapes', 'cool': True}\n",
    "new_dict = dict([['name','Andrei'],['age',32],['magic_power',False]])  # Creates a dict from collection of key-value pairs.\n",
    "new_dict = dict(zip(['name','age','magic_power'],['Andrei',32, False]))# Creates a dict from two collections.\n",
    "new_dict = my_dict.pop('favourite_snack')                              # Removes item from dictionary.\n",
    "my_dict"
   ]
  },
  {
   "cell_type": "code",
   "execution_count": 136,
   "metadata": {},
   "outputs": [
    {
     "data": {
      "text/plain": [
       "{'name': 'Andrei Neagoie', 'age': 30}"
      ]
     },
     "execution_count": 136,
     "metadata": {},
     "output_type": "execute_result"
    }
   ],
   "source": [
    "# Dictionary Comprehension\n",
    "my_dict = {'name': 'Andrei Neagoie', 'age': 30, 'magic_power': False}               # Andrei Neagoie\n",
    "{key: value for key, value in my_dict.items() if key == 'age' or key == 'name'} # {'name': 'Andrei', 'age': 32} --> Filter dict by keys"
   ]
  },
  {
   "attachments": {},
   "cell_type": "markdown",
   "metadata": {},
   "source": [
    "### Tuples\n",
    "Like lists, but they are used for immutable thing (that don't change)"
   ]
  },
  {
   "cell_type": "code",
   "execution_count": 137,
   "metadata": {},
   "outputs": [
    {
     "data": {
      "text/plain": [
       "('apple', 'grapes', 'mango', 'grapes')"
      ]
     },
     "execution_count": 137,
     "metadata": {},
     "output_type": "execute_result"
    }
   ],
   "source": [
    "my_tuple = ('apple','grapes','mango', 'grapes')\n",
    "apple, grapes, mango, grapes = my_tuple# Tuple unpacking\n",
    "len(my_tuple)                          # 4\n",
    "my_tuple[2]                            # mango\n",
    "my_tuple[-1]                           # 'grapes'\n",
    "my_tuple"
   ]
  },
  {
   "cell_type": "code",
   "execution_count": 138,
   "metadata": {},
   "outputs": [
    {
     "name": "stdout",
     "output_type": "stream",
     "text": [
      "TypeError was raised: 'tuple' object does not support item assignment\n",
      "AttributeError was raised: 'tuple' object has no attribute 'append'\n"
     ]
    }
   ],
   "source": [
    "# Immutability\n",
    "try:\n",
    "    my_tuple[1] = 'donuts'  # TypeError\n",
    "except Exception as err:\n",
    "    print(str(type(err).__name__) + \" was raised: \" + str(err))\n",
    "try:\n",
    "    my_tuple.append('candy')# AttributeError\n",
    "except Exception as err:\n",
    "    print(f\"{type(err).__name__} was raised: {err}\")"
   ]
  },
  {
   "cell_type": "code",
   "execution_count": 139,
   "metadata": {},
   "outputs": [
    {
     "data": {
      "text/plain": [
       "(1, 2)"
      ]
     },
     "execution_count": 139,
     "metadata": {},
     "output_type": "execute_result"
    }
   ],
   "source": [
    "# Methods\n",
    "my_tuple.index('grapes') , my_tuple.count('grapes') "
   ]
  },
  {
   "cell_type": "code",
   "execution_count": 140,
   "metadata": {},
   "outputs": [
    {
     "data": {
      "text/plain": [
       "[(1, 4), (2, 5), (3, 6)]"
      ]
     },
     "execution_count": 140,
     "metadata": {},
     "output_type": "execute_result"
    }
   ],
   "source": [
    "# Zip\n",
    "list(zip([1,2,3], [4,5,6])) # [(1, 4), (2, 5), (3, 6)]"
   ]
  },
  {
   "cell_type": "code",
   "execution_count": 141,
   "metadata": {},
   "outputs": [
    {
     "data": {
      "text/plain": [
       "[(1, 3, 5, 7), (2, 4, 6, 8)]"
      ]
     },
     "execution_count": 141,
     "metadata": {},
     "output_type": "execute_result"
    }
   ],
   "source": [
    "# unzip\n",
    "z = [(1, 2), (3, 4), (5, 6), (7, 8)] # Some output of zip() function\n",
    "unzip = lambda z: list(zip(*z))\n",
    "unzip(z)"
   ]
  },
  {
   "attachments": {},
   "cell_type": "markdown",
   "metadata": {},
   "source": [
    "### Sets\n",
    "Unorderd collection of unique elements."
   ]
  },
  {
   "cell_type": "code",
   "execution_count": 142,
   "metadata": {},
   "outputs": [
    {
     "data": {
      "text/plain": [
       "{1, 100}"
      ]
     },
     "execution_count": 142,
     "metadata": {},
     "output_type": "execute_result"
    }
   ],
   "source": [
    "my_set = set()\n",
    "my_set.add(1)  # {1}\n",
    "my_set.add(100)# {1, 100}\n",
    "my_set.add(100)# {1, 100} --> no duplicates!\n",
    "my_set"
   ]
  },
  {
   "cell_type": "code",
   "execution_count": 143,
   "metadata": {},
   "outputs": [
    {
     "name": "stdout",
     "output_type": "stream",
     "text": [
      "{1, 2, 3}\n"
     ]
    }
   ],
   "source": [
    "new_list = [1,2,3,3,3,4,4,5,6,1]\n",
    "set(new_list)           # {1, 2, 3, 4, 5, 6}\n",
    "try:\n",
    "    my_set.remove(100)      # {1} --> Raises KeyError if element not found\n",
    "except Exception as err:\n",
    "    print(f\"{type(err).__name__} was raised: {err}\")\n",
    "my_set.discard(100)     # {1} --> Doesn't raise an error if element not found\n",
    "my_set.clear()          # {}\n",
    "new_set = {1,2,3}.copy()# {1,2,3}\n",
    "print(new_set)"
   ]
  },
  {
   "cell_type": "code",
   "execution_count": 144,
   "metadata": {},
   "outputs": [
    {
     "data": {
      "text/plain": [
       "False"
      ]
     },
     "execution_count": 144,
     "metadata": {},
     "output_type": "execute_result"
    }
   ],
   "source": [
    "set1 = {1,2,3}\n",
    "set2 = {3,4,5}\n",
    "set3 = set1.union(set2)               # {1,2,3,4,5}\n",
    "set4 = set1.intersection(set2)        # {3}\n",
    "set5 = set1.difference(set2)          # {1, 2}\n",
    "set6 = set1.symmetric_difference(set2)# {1, 2, 4, 5}\n",
    "set1.issubset(set2)                   # False\n",
    "set1.issuperset(set2)                 # False\n",
    "set1.isdisjoint(set2)                 # False --> return True if two sets have a null intersection."
   ]
  },
  {
   "cell_type": "code",
   "execution_count": 145,
   "metadata": {},
   "outputs": [],
   "source": [
    "# Frozenset\n",
    "# hashable --> it can be used as a key in a dictionary or as an element in a set.\n",
    "# <frozenset> = frozenset(<collection>)"
   ]
  },
  {
   "attachments": {},
   "cell_type": "markdown",
   "metadata": {},
   "source": [
    "### None\n",
    "None is used for absence of a value and can be used to show nothing has been assigned to an object"
   ]
  },
  {
   "cell_type": "code",
   "execution_count": 149,
   "metadata": {},
   "outputs": [
    {
     "data": {
      "text/plain": [
       "(None, NoneType)"
      ]
     },
     "execution_count": 149,
     "metadata": {},
     "output_type": "execute_result"
    }
   ],
   "source": [
    "type(None) # NoneType\n",
    "a = None\n",
    "a, type(a)"
   ]
  },
  {
   "attachments": {},
   "cell_type": "markdown",
   "metadata": {},
   "source": [
    "### Comparison Operators"
   ]
  },
  {
   "cell_type": "code",
   "execution_count": 152,
   "metadata": {},
   "outputs": [
    {
     "data": {
      "text/plain": [
       "'\\n==                   # equal values\\n!=                   # not equal\\n>                    # left operand is greater than right operand\\n<                    # left operand is less than right operand\\n>=                   # left operand is greater than or equal to right operand\\n<=                   # left operand is less than or equal to right operand\\n<element> is <element> # check if two operands refer to same object in memory\\n'"
      ]
     },
     "execution_count": 152,
     "metadata": {},
     "output_type": "execute_result"
    }
   ],
   "source": [
    "'''\n",
    "==                   # equal values\n",
    "!=                   # not equal\n",
    ">                    # left operand is greater than right operand\n",
    "<                    # left operand is less than right operand\n",
    ">=                   # left operand is greater than or equal to right operand\n",
    "<=                   # left operand is less than or equal to right operand\n",
    "<element> is <element> # check if two operands refer to same object in memory\n",
    "'''"
   ]
  },
  {
   "attachments": {},
   "cell_type": "markdown",
   "metadata": {},
   "source": [
    "### Logical Operators"
   ]
  },
  {
   "cell_type": "code",
   "execution_count": null,
   "metadata": {},
   "outputs": [],
   "source": [
    "'''\n",
    "1 < 2 and 4 > 1 # True\n",
    "1 > 3 or 4 > 1  # True\n",
    "1 is not 4      # True\n",
    "not True        # False\n",
    "1 not in [2,3,4]# True\n",
    "\n",
    "if <condition that evaluates to boolean>:\n",
    "# perform action1\n",
    "elif <condition that evaluates to boolean>:\n",
    "# perform action2\n",
    "else:\n",
    "# perform action3\n",
    "'''"
   ]
  }
 ],
 "metadata": {
  "kernelspec": {
   "display_name": "open_ai",
   "language": "python",
   "name": "python3"
  },
  "language_info": {
   "codemirror_mode": {
    "name": "ipython",
    "version": 3
   },
   "file_extension": ".py",
   "mimetype": "text/x-python",
   "name": "python",
   "nbconvert_exporter": "python",
   "pygments_lexer": "ipython3",
   "version": "3.9.16"
  },
  "orig_nbformat": 4
 },
 "nbformat": 4,
 "nbformat_minor": 2
}
